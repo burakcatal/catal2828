{
  "cells": [
    {
      "cell_type": "markdown",
      "metadata": {
        "id": "view-in-github",
        "colab_type": "text"
      },
      "source": [
        "<a href=\"https://colab.research.google.com/github/burakcatal/catal2828/blob/main/house_price_prediction_challenge_notebook.ipynb\" target=\"_parent\"><img src=\"https://colab.research.google.com/assets/colab-badge.svg\" alt=\"Open In Colab\"/></a>"
      ]
    },
    {
      "cell_type": "code",
      "execution_count": null,
      "id": "c7c7a21e",
      "metadata": {
        "_cell_guid": "b1076dfc-b9ad-4769-8c92-a6c4dae69d19",
        "_uuid": "8f2839f25d086af736a60e9eeb907d3b93b6e0e5",
        "execution": {
          "iopub.execute_input": "2023-01-22T12:39:19.605945Z",
          "iopub.status.busy": "2023-01-22T12:39:19.605153Z",
          "iopub.status.idle": "2023-01-22T12:39:19.623999Z",
          "shell.execute_reply": "2023-01-22T12:39:19.622504Z"
        },
        "papermill": {
          "duration": 0.038515,
          "end_time": "2023-01-22T12:39:19.626686",
          "exception": false,
          "start_time": "2023-01-22T12:39:19.588171",
          "status": "completed"
        },
        "tags": [],
        "id": "c7c7a21e",
        "outputId": "665c2d2a-d8ba-4a57-e720-08bb880d99dc"
      },
      "outputs": [
        {
          "name": "stdout",
          "output_type": "stream",
          "text": [
            "/kaggle/input/house-price-prediction-challenge/sample_submission.csv\n",
            "/kaggle/input/house-price-prediction-challenge/train.csv\n",
            "/kaggle/input/house-price-prediction-challenge/test.csv\n"
          ]
        }
      ],
      "source": [
        "# This Python 3 environment comes with many helpful analytics libraries installed\n",
        "# It is defined by the kaggle/python Docker image: https://github.com/kaggle/docker-python\n",
        "# For example, here's several helpful packages to load\n",
        "\n",
        "import numpy as np # linear algebra\n",
        "import pandas as pd # data processing, CSV file I/O (e.g. pd.read_csv)\n",
        "\n",
        "# Input data files are available in the read-only \"../input/\" directory\n",
        "# For example, running this (by clicking run or pressing Shift+Enter) will list all files under the input directory\n",
        "\n",
        "import os\n",
        "for dirname, _, filenames in os.walk('/kaggle/input'):\n",
        "    for filename in filenames:\n",
        "        print(os.path.join(dirname, filename))\n",
        "\n",
        "# You can write up to 20GB to the current directory (/kaggle/working/) that gets preserved as output when you create a version using \"Save & Run All\" \n",
        "# You can also write temporary files to /kaggle/temp/, but they won't be saved outside of the current session"
      ]
    },
    {
      "cell_type": "markdown",
      "id": "9aec5296",
      "metadata": {
        "papermill": {
          "duration": 0.013714,
          "end_time": "2023-01-22T12:39:19.656042",
          "exception": false,
          "start_time": "2023-01-22T12:39:19.642328",
          "status": "completed"
        },
        "tags": [],
        "id": "9aec5296"
      },
      "source": [
        "# Package Import"
      ]
    },
    {
      "cell_type": "code",
      "execution_count": null,
      "id": "56f0de34",
      "metadata": {
        "execution": {
          "iopub.execute_input": "2023-01-22T12:39:19.685242Z",
          "iopub.status.busy": "2023-01-22T12:39:19.684973Z",
          "iopub.status.idle": "2023-01-22T12:39:19.689287Z",
          "shell.execute_reply": "2023-01-22T12:39:19.688274Z"
        },
        "papermill": {
          "duration": 0.021507,
          "end_time": "2023-01-22T12:39:19.691534",
          "exception": false,
          "start_time": "2023-01-22T12:39:19.670027",
          "status": "completed"
        },
        "tags": [],
        "id": "56f0de34"
      },
      "outputs": [],
      "source": [
        "import warnings\n",
        "warnings.filterwarnings('ignore')"
      ]
    },
    {
      "cell_type": "code",
      "execution_count": null,
      "id": "20d65542",
      "metadata": {
        "execution": {
          "iopub.execute_input": "2023-01-22T12:39:19.720552Z",
          "iopub.status.busy": "2023-01-22T12:39:19.720302Z",
          "iopub.status.idle": "2023-01-22T12:39:20.753206Z",
          "shell.execute_reply": "2023-01-22T12:39:20.752249Z"
        },
        "papermill": {
          "duration": 1.04998,
          "end_time": "2023-01-22T12:39:20.755516",
          "exception": false,
          "start_time": "2023-01-22T12:39:19.705536",
          "status": "completed"
        },
        "tags": [],
        "id": "20d65542"
      },
      "outputs": [],
      "source": [
        "import seaborn as sns\n",
        "import matplotlib.pyplot as plt\n",
        "\n",
        "from sklearn.preprocessing import StandardScaler,MinMaxScaler,OneHotEncoder,LabelEncoder\n",
        "from sklearn.compose import ColumnTransformer,make_column_selector\n",
        "\n",
        "from sklearn.model_selection import train_test_split,GridSearchCV\n",
        "from sklearn.exceptions import NotFittedError\n",
        "\n",
        "from sklearn.metrics import mean_absolute_error,mean_squared_error,r2_score\n",
        "\n",
        "sns.set_style('darkgrid')\n",
        "\n",
        "%matplotlib inline"
      ]
    },
    {
      "cell_type": "markdown",
      "id": "6af500fa",
      "metadata": {
        "papermill": {
          "duration": 0.014041,
          "end_time": "2023-01-22T12:39:20.784196",
          "exception": false,
          "start_time": "2023-01-22T12:39:20.770155",
          "status": "completed"
        },
        "tags": [],
        "id": "6af500fa"
      },
      "source": [
        "# Data Import"
      ]
    },
    {
      "cell_type": "code",
      "execution_count": null,
      "id": "6f5010d5",
      "metadata": {
        "execution": {
          "iopub.execute_input": "2023-01-22T12:39:20.813939Z",
          "iopub.status.busy": "2023-01-22T12:39:20.813117Z",
          "iopub.status.idle": "2023-01-22T12:39:20.817818Z",
          "shell.execute_reply": "2023-01-22T12:39:20.816870Z"
        },
        "papermill": {
          "duration": 0.021636,
          "end_time": "2023-01-22T12:39:20.819850",
          "exception": false,
          "start_time": "2023-01-22T12:39:20.798214",
          "status": "completed"
        },
        "tags": [],
        "id": "6f5010d5"
      },
      "outputs": [],
      "source": [
        "col_drop_list=[]"
      ]
    },
    {
      "cell_type": "code",
      "execution_count": null,
      "id": "9570bc51",
      "metadata": {
        "execution": {
          "iopub.execute_input": "2023-01-22T12:39:20.848859Z",
          "iopub.status.busy": "2023-01-22T12:39:20.848551Z",
          "iopub.status.idle": "2023-01-22T12:39:20.950733Z",
          "shell.execute_reply": "2023-01-22T12:39:20.949822Z"
        },
        "papermill": {
          "duration": 0.11932,
          "end_time": "2023-01-22T12:39:20.953043",
          "exception": false,
          "start_time": "2023-01-22T12:39:20.833723",
          "status": "completed"
        },
        "tags": [],
        "id": "9570bc51",
        "outputId": "a78fb014-dca3-4567-b5b1-dcf408459cfd"
      },
      "outputs": [
        {
          "data": {
            "text/html": [
              "<div>\n",
              "<style scoped>\n",
              "    .dataframe tbody tr th:only-of-type {\n",
              "        vertical-align: middle;\n",
              "    }\n",
              "\n",
              "    .dataframe tbody tr th {\n",
              "        vertical-align: top;\n",
              "    }\n",
              "\n",
              "    .dataframe thead th {\n",
              "        text-align: right;\n",
              "    }\n",
              "</style>\n",
              "<table border=\"1\" class=\"dataframe\">\n",
              "  <thead>\n",
              "    <tr style=\"text-align: right;\">\n",
              "      <th></th>\n",
              "      <th>POSTED_BY</th>\n",
              "      <th>UNDER_CONSTRUCTION</th>\n",
              "      <th>RERA</th>\n",
              "      <th>BHK_NO.</th>\n",
              "      <th>BHK_OR_RK</th>\n",
              "      <th>SQUARE_FT</th>\n",
              "      <th>READY_TO_MOVE</th>\n",
              "      <th>RESALE</th>\n",
              "      <th>ADDRESS</th>\n",
              "      <th>LONGITUDE</th>\n",
              "      <th>LATITUDE</th>\n",
              "      <th>TARGET(PRICE_IN_LACS)</th>\n",
              "    </tr>\n",
              "  </thead>\n",
              "  <tbody>\n",
              "    <tr>\n",
              "      <th>0</th>\n",
              "      <td>Owner</td>\n",
              "      <td>0</td>\n",
              "      <td>0</td>\n",
              "      <td>2</td>\n",
              "      <td>BHK</td>\n",
              "      <td>1300.236407</td>\n",
              "      <td>1</td>\n",
              "      <td>1</td>\n",
              "      <td>Ksfc Layout,Bangalore</td>\n",
              "      <td>12.969910</td>\n",
              "      <td>77.597960</td>\n",
              "      <td>55.0</td>\n",
              "    </tr>\n",
              "    <tr>\n",
              "      <th>1</th>\n",
              "      <td>Dealer</td>\n",
              "      <td>0</td>\n",
              "      <td>0</td>\n",
              "      <td>2</td>\n",
              "      <td>BHK</td>\n",
              "      <td>1275.000000</td>\n",
              "      <td>1</td>\n",
              "      <td>1</td>\n",
              "      <td>Vishweshwara Nagar,Mysore</td>\n",
              "      <td>12.274538</td>\n",
              "      <td>76.644605</td>\n",
              "      <td>51.0</td>\n",
              "    </tr>\n",
              "    <tr>\n",
              "      <th>2</th>\n",
              "      <td>Owner</td>\n",
              "      <td>0</td>\n",
              "      <td>0</td>\n",
              "      <td>2</td>\n",
              "      <td>BHK</td>\n",
              "      <td>933.159722</td>\n",
              "      <td>1</td>\n",
              "      <td>1</td>\n",
              "      <td>Jigani,Bangalore</td>\n",
              "      <td>12.778033</td>\n",
              "      <td>77.632191</td>\n",
              "      <td>43.0</td>\n",
              "    </tr>\n",
              "    <tr>\n",
              "      <th>3</th>\n",
              "      <td>Owner</td>\n",
              "      <td>0</td>\n",
              "      <td>1</td>\n",
              "      <td>2</td>\n",
              "      <td>BHK</td>\n",
              "      <td>929.921143</td>\n",
              "      <td>1</td>\n",
              "      <td>1</td>\n",
              "      <td>Sector-1 Vaishali,Ghaziabad</td>\n",
              "      <td>28.642300</td>\n",
              "      <td>77.344500</td>\n",
              "      <td>62.5</td>\n",
              "    </tr>\n",
              "    <tr>\n",
              "      <th>4</th>\n",
              "      <td>Dealer</td>\n",
              "      <td>1</td>\n",
              "      <td>0</td>\n",
              "      <td>2</td>\n",
              "      <td>BHK</td>\n",
              "      <td>999.009247</td>\n",
              "      <td>0</td>\n",
              "      <td>1</td>\n",
              "      <td>New Town,Kolkata</td>\n",
              "      <td>22.592200</td>\n",
              "      <td>88.484911</td>\n",
              "      <td>60.5</td>\n",
              "    </tr>\n",
              "  </tbody>\n",
              "</table>\n",
              "</div>"
            ],
            "text/plain": [
              "  POSTED_BY  UNDER_CONSTRUCTION  RERA  BHK_NO. BHK_OR_RK    SQUARE_FT  \\\n",
              "0     Owner                   0     0        2       BHK  1300.236407   \n",
              "1    Dealer                   0     0        2       BHK  1275.000000   \n",
              "2     Owner                   0     0        2       BHK   933.159722   \n",
              "3     Owner                   0     1        2       BHK   929.921143   \n",
              "4    Dealer                   1     0        2       BHK   999.009247   \n",
              "\n",
              "   READY_TO_MOVE  RESALE                      ADDRESS  LONGITUDE   LATITUDE  \\\n",
              "0              1       1        Ksfc Layout,Bangalore  12.969910  77.597960   \n",
              "1              1       1    Vishweshwara Nagar,Mysore  12.274538  76.644605   \n",
              "2              1       1             Jigani,Bangalore  12.778033  77.632191   \n",
              "3              1       1  Sector-1 Vaishali,Ghaziabad  28.642300  77.344500   \n",
              "4              0       1             New Town,Kolkata  22.592200  88.484911   \n",
              "\n",
              "   TARGET(PRICE_IN_LACS)  \n",
              "0                   55.0  \n",
              "1                   51.0  \n",
              "2                   43.0  \n",
              "3                   62.5  \n",
              "4                   60.5  "
            ]
          },
          "execution_count": 5,
          "metadata": {},
          "output_type": "execute_result"
        }
      ],
      "source": [
        "input_file='/kaggle/input/house-price-prediction-challenge/train.csv'\n",
        "df=pd.read_csv(input_file)\n",
        "df.head()"
      ]
    },
    {
      "cell_type": "code",
      "execution_count": null,
      "id": "707e041c",
      "metadata": {
        "execution": {
          "iopub.execute_input": "2023-01-22T12:39:20.985019Z",
          "iopub.status.busy": "2023-01-22T12:39:20.984706Z",
          "iopub.status.idle": "2023-01-22T12:39:20.990496Z",
          "shell.execute_reply": "2023-01-22T12:39:20.989528Z"
        },
        "papermill": {
          "duration": 0.024064,
          "end_time": "2023-01-22T12:39:20.992579",
          "exception": false,
          "start_time": "2023-01-22T12:39:20.968515",
          "status": "completed"
        },
        "tags": [],
        "id": "707e041c",
        "outputId": "31c853f1-8408-40e5-df53-bf877cc84ba4"
      },
      "outputs": [
        {
          "data": {
            "text/plain": [
              "'TARGET(PRICE_IN_LACS)'"
            ]
          },
          "execution_count": 6,
          "metadata": {},
          "output_type": "execute_result"
        }
      ],
      "source": [
        "target='TARGET(PRICE_IN_LACS)'\n",
        "target"
      ]
    },
    {
      "cell_type": "markdown",
      "id": "d0647317",
      "metadata": {
        "papermill": {
          "duration": 0.014175,
          "end_time": "2023-01-22T12:39:21.021615",
          "exception": false,
          "start_time": "2023-01-22T12:39:21.007440",
          "status": "completed"
        },
        "tags": [],
        "id": "d0647317"
      },
      "source": [
        "# EDA (Describe, Info)"
      ]
    },
    {
      "cell_type": "code",
      "execution_count": null,
      "id": "72912b1d",
      "metadata": {
        "execution": {
          "iopub.execute_input": "2023-01-22T12:39:21.051728Z",
          "iopub.status.busy": "2023-01-22T12:39:21.051411Z",
          "iopub.status.idle": "2023-01-22T12:39:21.101888Z",
          "shell.execute_reply": "2023-01-22T12:39:21.100917Z"
        },
        "papermill": {
          "duration": 0.067374,
          "end_time": "2023-01-22T12:39:21.103793",
          "exception": false,
          "start_time": "2023-01-22T12:39:21.036419",
          "status": "completed"
        },
        "tags": [],
        "id": "72912b1d",
        "outputId": "020be65a-ef95-4821-f9bd-6fda23770b50"
      },
      "outputs": [
        {
          "data": {
            "text/html": [
              "<div>\n",
              "<style scoped>\n",
              "    .dataframe tbody tr th:only-of-type {\n",
              "        vertical-align: middle;\n",
              "    }\n",
              "\n",
              "    .dataframe tbody tr th {\n",
              "        vertical-align: top;\n",
              "    }\n",
              "\n",
              "    .dataframe thead th {\n",
              "        text-align: right;\n",
              "    }\n",
              "</style>\n",
              "<table border=\"1\" class=\"dataframe\">\n",
              "  <thead>\n",
              "    <tr style=\"text-align: right;\">\n",
              "      <th></th>\n",
              "      <th>UNDER_CONSTRUCTION</th>\n",
              "      <th>RERA</th>\n",
              "      <th>BHK_NO.</th>\n",
              "      <th>SQUARE_FT</th>\n",
              "      <th>READY_TO_MOVE</th>\n",
              "      <th>RESALE</th>\n",
              "      <th>LONGITUDE</th>\n",
              "      <th>LATITUDE</th>\n",
              "      <th>TARGET(PRICE_IN_LACS)</th>\n",
              "    </tr>\n",
              "  </thead>\n",
              "  <tbody>\n",
              "    <tr>\n",
              "      <th>count</th>\n",
              "      <td>29451.000000</td>\n",
              "      <td>29451.000000</td>\n",
              "      <td>29451.000000</td>\n",
              "      <td>2.945100e+04</td>\n",
              "      <td>29451.000000</td>\n",
              "      <td>29451.000000</td>\n",
              "      <td>29451.000000</td>\n",
              "      <td>29451.000000</td>\n",
              "      <td>29451.000000</td>\n",
              "    </tr>\n",
              "    <tr>\n",
              "      <th>mean</th>\n",
              "      <td>0.179756</td>\n",
              "      <td>0.317918</td>\n",
              "      <td>2.392279</td>\n",
              "      <td>1.980217e+04</td>\n",
              "      <td>0.820244</td>\n",
              "      <td>0.929578</td>\n",
              "      <td>21.300255</td>\n",
              "      <td>76.837695</td>\n",
              "      <td>142.898746</td>\n",
              "    </tr>\n",
              "    <tr>\n",
              "      <th>std</th>\n",
              "      <td>0.383991</td>\n",
              "      <td>0.465675</td>\n",
              "      <td>0.879091</td>\n",
              "      <td>1.901335e+06</td>\n",
              "      <td>0.383991</td>\n",
              "      <td>0.255861</td>\n",
              "      <td>6.205306</td>\n",
              "      <td>10.557747</td>\n",
              "      <td>656.880713</td>\n",
              "    </tr>\n",
              "    <tr>\n",
              "      <th>min</th>\n",
              "      <td>0.000000</td>\n",
              "      <td>0.000000</td>\n",
              "      <td>1.000000</td>\n",
              "      <td>3.000000e+00</td>\n",
              "      <td>0.000000</td>\n",
              "      <td>0.000000</td>\n",
              "      <td>-37.713008</td>\n",
              "      <td>-121.761248</td>\n",
              "      <td>0.250000</td>\n",
              "    </tr>\n",
              "    <tr>\n",
              "      <th>25%</th>\n",
              "      <td>0.000000</td>\n",
              "      <td>0.000000</td>\n",
              "      <td>2.000000</td>\n",
              "      <td>9.000211e+02</td>\n",
              "      <td>1.000000</td>\n",
              "      <td>1.000000</td>\n",
              "      <td>18.452663</td>\n",
              "      <td>73.798100</td>\n",
              "      <td>38.000000</td>\n",
              "    </tr>\n",
              "    <tr>\n",
              "      <th>50%</th>\n",
              "      <td>0.000000</td>\n",
              "      <td>0.000000</td>\n",
              "      <td>2.000000</td>\n",
              "      <td>1.175057e+03</td>\n",
              "      <td>1.000000</td>\n",
              "      <td>1.000000</td>\n",
              "      <td>20.750000</td>\n",
              "      <td>77.324137</td>\n",
              "      <td>62.000000</td>\n",
              "    </tr>\n",
              "    <tr>\n",
              "      <th>75%</th>\n",
              "      <td>0.000000</td>\n",
              "      <td>1.000000</td>\n",
              "      <td>3.000000</td>\n",
              "      <td>1.550688e+03</td>\n",
              "      <td>1.000000</td>\n",
              "      <td>1.000000</td>\n",
              "      <td>26.900926</td>\n",
              "      <td>77.828740</td>\n",
              "      <td>100.000000</td>\n",
              "    </tr>\n",
              "    <tr>\n",
              "      <th>max</th>\n",
              "      <td>1.000000</td>\n",
              "      <td>1.000000</td>\n",
              "      <td>20.000000</td>\n",
              "      <td>2.545455e+08</td>\n",
              "      <td>1.000000</td>\n",
              "      <td>1.000000</td>\n",
              "      <td>59.912884</td>\n",
              "      <td>152.962676</td>\n",
              "      <td>30000.000000</td>\n",
              "    </tr>\n",
              "  </tbody>\n",
              "</table>\n",
              "</div>"
            ],
            "text/plain": [
              "       UNDER_CONSTRUCTION          RERA       BHK_NO.     SQUARE_FT  \\\n",
              "count        29451.000000  29451.000000  29451.000000  2.945100e+04   \n",
              "mean             0.179756      0.317918      2.392279  1.980217e+04   \n",
              "std              0.383991      0.465675      0.879091  1.901335e+06   \n",
              "min              0.000000      0.000000      1.000000  3.000000e+00   \n",
              "25%              0.000000      0.000000      2.000000  9.000211e+02   \n",
              "50%              0.000000      0.000000      2.000000  1.175057e+03   \n",
              "75%              0.000000      1.000000      3.000000  1.550688e+03   \n",
              "max              1.000000      1.000000     20.000000  2.545455e+08   \n",
              "\n",
              "       READY_TO_MOVE        RESALE     LONGITUDE      LATITUDE  \\\n",
              "count   29451.000000  29451.000000  29451.000000  29451.000000   \n",
              "mean        0.820244      0.929578     21.300255     76.837695   \n",
              "std         0.383991      0.255861      6.205306     10.557747   \n",
              "min         0.000000      0.000000    -37.713008   -121.761248   \n",
              "25%         1.000000      1.000000     18.452663     73.798100   \n",
              "50%         1.000000      1.000000     20.750000     77.324137   \n",
              "75%         1.000000      1.000000     26.900926     77.828740   \n",
              "max         1.000000      1.000000     59.912884    152.962676   \n",
              "\n",
              "       TARGET(PRICE_IN_LACS)  \n",
              "count           29451.000000  \n",
              "mean              142.898746  \n",
              "std               656.880713  \n",
              "min                 0.250000  \n",
              "25%                38.000000  \n",
              "50%                62.000000  \n",
              "75%               100.000000  \n",
              "max             30000.000000  "
            ]
          },
          "execution_count": 7,
          "metadata": {},
          "output_type": "execute_result"
        }
      ],
      "source": [
        "df.describe()"
      ]
    },
    {
      "cell_type": "code",
      "execution_count": null,
      "id": "ae67b690",
      "metadata": {
        "execution": {
          "iopub.execute_input": "2023-01-22T12:39:21.134871Z",
          "iopub.status.busy": "2023-01-22T12:39:21.134114Z",
          "iopub.status.idle": "2023-01-22T12:39:21.153283Z",
          "shell.execute_reply": "2023-01-22T12:39:21.151399Z"
        },
        "papermill": {
          "duration": 0.036376,
          "end_time": "2023-01-22T12:39:21.155411",
          "exception": false,
          "start_time": "2023-01-22T12:39:21.119035",
          "status": "completed"
        },
        "tags": [],
        "id": "ae67b690",
        "outputId": "8e715b43-a226-4798-814a-afa81a3a4865"
      },
      "outputs": [
        {
          "name": "stdout",
          "output_type": "stream",
          "text": [
            "<class 'pandas.core.frame.DataFrame'>\n",
            "RangeIndex: 29451 entries, 0 to 29450\n",
            "Data columns (total 12 columns):\n",
            " #   Column                 Non-Null Count  Dtype  \n",
            "---  ------                 --------------  -----  \n",
            " 0   POSTED_BY              29451 non-null  object \n",
            " 1   UNDER_CONSTRUCTION     29451 non-null  int64  \n",
            " 2   RERA                   29451 non-null  int64  \n",
            " 3   BHK_NO.                29451 non-null  int64  \n",
            " 4   BHK_OR_RK              29451 non-null  object \n",
            " 5   SQUARE_FT              29451 non-null  float64\n",
            " 6   READY_TO_MOVE          29451 non-null  int64  \n",
            " 7   RESALE                 29451 non-null  int64  \n",
            " 8   ADDRESS                29451 non-null  object \n",
            " 9   LONGITUDE              29451 non-null  float64\n",
            " 10  LATITUDE               29451 non-null  float64\n",
            " 11  TARGET(PRICE_IN_LACS)  29451 non-null  float64\n",
            "dtypes: float64(4), int64(5), object(3)\n",
            "memory usage: 2.7+ MB\n"
          ]
        }
      ],
      "source": [
        "df.info()"
      ]
    },
    {
      "cell_type": "markdown",
      "id": "5b360909",
      "metadata": {
        "papermill": {
          "duration": 0.014388,
          "end_time": "2023-01-22T12:39:21.184602",
          "exception": false,
          "start_time": "2023-01-22T12:39:21.170214",
          "status": "completed"
        },
        "tags": [],
        "id": "5b360909"
      },
      "source": [
        "# Null Heatmap"
      ]
    },
    {
      "cell_type": "code",
      "execution_count": null,
      "id": "ebea34d3",
      "metadata": {
        "execution": {
          "iopub.execute_input": "2023-01-22T12:39:21.217761Z",
          "iopub.status.busy": "2023-01-22T12:39:21.217449Z",
          "iopub.status.idle": "2023-01-22T12:39:22.094607Z",
          "shell.execute_reply": "2023-01-22T12:39:22.093702Z"
        },
        "papermill": {
          "duration": 0.897463,
          "end_time": "2023-01-22T12:39:22.096673",
          "exception": false,
          "start_time": "2023-01-22T12:39:21.199210",
          "status": "completed"
        },
        "tags": [],
        "id": "ebea34d3",
        "outputId": "73a0bbae-f8d0-456a-959e-bce97aa89663"
      },
      "outputs": [
        {
          "data": {
            "image/png": "[encoded data removed]",
            "text/plain": [
              "<Figure size 864x432 with 2 Axes>"
            ]
          },
          "metadata": {
            "needs_background": "light"
          },
          "output_type": "display_data"
        }
      ],
      "source": [
        "plt.figure(figsize=(12,6))\n",
        "sns.heatmap(df.isna(),yticklabels=False)\n",
        "plt.tight_layout()"
      ]
    },
    {
      "cell_type": "markdown",
      "id": "dee6d307",
      "metadata": {
        "papermill": {
          "duration": 0.014626,
          "end_time": "2023-01-22T12:39:22.126417",
          "exception": false,
          "start_time": "2023-01-22T12:39:22.111791",
          "status": "completed"
        },
        "tags": [],
        "id": "dee6d307"
      },
      "source": [
        "# Feature Engineering"
      ]
    },
    {
      "cell_type": "markdown",
      "id": "f4eadba8",
      "metadata": {
        "papermill": {
          "duration": 0.014511,
          "end_time": "2023-01-22T12:39:22.155605",
          "exception": false,
          "start_time": "2023-01-22T12:39:22.141094",
          "status": "completed"
        },
        "tags": [],
        "id": "f4eadba8"
      },
      "source": [
        "**First trying without ADDRESS || LAT AND LONG Should give some good r2**"
      ]
    },
    {
      "cell_type": "code",
      "execution_count": null,
      "id": "58b5f212",
      "metadata": {
        "execution": {
          "iopub.execute_input": "2023-01-22T12:39:22.187806Z",
          "iopub.status.busy": "2023-01-22T12:39:22.186244Z",
          "iopub.status.idle": "2023-01-22T12:39:22.191035Z",
          "shell.execute_reply": "2023-01-22T12:39:22.190403Z"
        },
        "papermill": {
          "duration": 0.022738,
          "end_time": "2023-01-22T12:39:22.193024",
          "exception": false,
          "start_time": "2023-01-22T12:39:22.170286",
          "status": "completed"
        },
        "tags": [],
        "id": "58b5f212"
      },
      "outputs": [],
      "source": [
        "col_drop_list.append('ADDRESS')"
      ]
    },
    {
      "cell_type": "code",
      "execution_count": null,
      "id": "d7b72331",
      "metadata": {
        "execution": {
          "iopub.execute_input": "2023-01-22T12:39:22.239292Z",
          "iopub.status.busy": "2023-01-22T12:39:22.239001Z",
          "iopub.status.idle": "2023-01-22T12:39:22.251050Z",
          "shell.execute_reply": "2023-01-22T12:39:22.249298Z"
        },
        "papermill": {
          "duration": 0.046851,
          "end_time": "2023-01-22T12:39:22.254568",
          "exception": false,
          "start_time": "2023-01-22T12:39:22.207717",
          "status": "completed"
        },
        "tags": [],
        "id": "d7b72331"
      },
      "outputs": [],
      "source": [
        "df.drop(col_drop_list,axis=1,inplace=True)"
      ]
    },
    {
      "cell_type": "code",
      "execution_count": null,
      "id": "bdb39dc1",
      "metadata": {
        "execution": {
          "iopub.execute_input": "2023-01-22T12:39:22.328161Z",
          "iopub.status.busy": "2023-01-22T12:39:22.327753Z",
          "iopub.status.idle": "2023-01-22T12:39:22.348896Z",
          "shell.execute_reply": "2023-01-22T12:39:22.347908Z"
        },
        "papermill": {
          "duration": 0.059641,
          "end_time": "2023-01-22T12:39:22.353842",
          "exception": false,
          "start_time": "2023-01-22T12:39:22.294201",
          "status": "completed"
        },
        "tags": [],
        "id": "bdb39dc1",
        "outputId": "f7629d7a-1a09-4a02-ffd6-d99b81ee77ac"
      },
      "outputs": [
        {
          "data": {
            "text/html": [
              "<div>\n",
              "<style scoped>\n",
              "    .dataframe tbody tr th:only-of-type {\n",
              "        vertical-align: middle;\n",
              "    }\n",
              "\n",
              "    .dataframe tbody tr th {\n",
              "        vertical-align: top;\n",
              "    }\n",
              "\n",
              "    .dataframe thead th {\n",
              "        text-align: right;\n",
              "    }\n",
              "</style>\n",
              "<table border=\"1\" class=\"dataframe\">\n",
              "  <thead>\n",
              "    <tr style=\"text-align: right;\">\n",
              "      <th></th>\n",
              "      <th>POSTED_BY</th>\n",
              "      <th>UNDER_CONSTRUCTION</th>\n",
              "      <th>RERA</th>\n",
              "      <th>BHK_NO.</th>\n",
              "      <th>BHK_OR_RK</th>\n",
              "      <th>SQUARE_FT</th>\n",
              "      <th>READY_TO_MOVE</th>\n",
              "      <th>RESALE</th>\n",
              "      <th>LONGITUDE</th>\n",
              "      <th>LATITUDE</th>\n",
              "      <th>TARGET(PRICE_IN_LACS)</th>\n",
              "    </tr>\n",
              "  </thead>\n",
              "  <tbody>\n",
              "    <tr>\n",
              "      <th>0</th>\n",
              "      <td>Owner</td>\n",
              "      <td>0</td>\n",
              "      <td>0</td>\n",
              "      <td>2</td>\n",
              "      <td>BHK</td>\n",
              "      <td>1300.236407</td>\n",
              "      <td>1</td>\n",
              "      <td>1</td>\n",
              "      <td>12.969910</td>\n",
              "      <td>77.597960</td>\n",
              "      <td>55.0</td>\n",
              "    </tr>\n",
              "    <tr>\n",
              "      <th>1</th>\n",
              "      <td>Dealer</td>\n",
              "      <td>0</td>\n",
              "      <td>0</td>\n",
              "      <td>2</td>\n",
              "      <td>BHK</td>\n",
              "      <td>1275.000000</td>\n",
              "      <td>1</td>\n",
              "      <td>1</td>\n",
              "      <td>12.274538</td>\n",
              "      <td>76.644605</td>\n",
              "      <td>51.0</td>\n",
              "    </tr>\n",
              "    <tr>\n",
              "      <th>2</th>\n",
              "      <td>Owner</td>\n",
              "      <td>0</td>\n",
              "      <td>0</td>\n",
              "      <td>2</td>\n",
              "      <td>BHK</td>\n",
              "      <td>933.159722</td>\n",
              "      <td>1</td>\n",
              "      <td>1</td>\n",
              "      <td>12.778033</td>\n",
              "      <td>77.632191</td>\n",
              "      <td>43.0</td>\n",
              "    </tr>\n",
              "    <tr>\n",
              "      <th>3</th>\n",
              "      <td>Owner</td>\n",
              "      <td>0</td>\n",
              "      <td>1</td>\n",
              "      <td>2</td>\n",
              "      <td>BHK</td>\n",
              "      <td>929.921143</td>\n",
              "      <td>1</td>\n",
              "      <td>1</td>\n",
              "      <td>28.642300</td>\n",
              "      <td>77.344500</td>\n",
              "      <td>62.5</td>\n",
              "    </tr>\n",
              "    <tr>\n",
              "      <th>4</th>\n",
              "      <td>Dealer</td>\n",
              "      <td>1</td>\n",
              "      <td>0</td>\n",
              "      <td>2</td>\n",
              "      <td>BHK</td>\n",
              "      <td>999.009247</td>\n",
              "      <td>0</td>\n",
              "      <td>1</td>\n",
              "      <td>22.592200</td>\n",
              "      <td>88.484911</td>\n",
              "      <td>60.5</td>\n",
              "    </tr>\n",
              "  </tbody>\n",
              "</table>\n",
              "</div>"
            ],
            "text/plain": [
              "  POSTED_BY  UNDER_CONSTRUCTION  RERA  BHK_NO. BHK_OR_RK    SQUARE_FT  \\\n",
              "0     Owner                   0     0        2       BHK  1300.236407   \n",
              "1    Dealer                   0     0        2       BHK  1275.000000   \n",
              "2     Owner                   0     0        2       BHK   933.159722   \n",
              "3     Owner                   0     1        2       BHK   929.921143   \n",
              "4    Dealer                   1     0        2       BHK   999.009247   \n",
              "\n",
              "   READY_TO_MOVE  RESALE  LONGITUDE   LATITUDE  TARGET(PRICE_IN_LACS)  \n",
              "0              1       1  12.969910  77.597960                   55.0  \n",
              "1              1       1  12.274538  76.644605                   51.0  \n",
              "2              1       1  12.778033  77.632191                   43.0  \n",
              "3              1       1  28.642300  77.344500                   62.5  \n",
              "4              0       1  22.592200  88.484911                   60.5  "
            ]
          },
          "execution_count": 12,
          "metadata": {},
          "output_type": "execute_result"
        }
      ],
      "source": [
        "df.head()"
      ]
    },
    {
      "cell_type": "code",
      "execution_count": null,
      "id": "793f38eb",
      "metadata": {
        "_kg_hide-input": true,
        "_kg_hide-output": true,
        "execution": {
          "iopub.execute_input": "2023-01-22T12:39:22.403338Z",
          "iopub.status.busy": "2023-01-22T12:39:22.402994Z",
          "iopub.status.idle": "2023-01-22T12:39:22.407390Z",
          "shell.execute_reply": "2023-01-22T12:39:22.406451Z"
        },
        "papermill": {
          "duration": 0.0335,
          "end_time": "2023-01-22T12:39:22.412523",
          "exception": false,
          "start_time": "2023-01-22T12:39:22.379023",
          "status": "completed"
        },
        "tags": [],
        "id": "793f38eb"
      },
      "outputs": [],
      "source": [
        "# df['ADDRESS'].value_counts()\n",
        "# df['CITY']=df['ADDRESS'].apply(lambda x : x.split(\",\")[-1])\n",
        "# df['CITY'].value_counts()"
      ]
    },
    {
      "cell_type": "code",
      "execution_count": null,
      "id": "e743c4d2",
      "metadata": {
        "execution": {
          "iopub.execute_input": "2023-01-22T12:39:22.458534Z",
          "iopub.status.busy": "2023-01-22T12:39:22.458220Z",
          "iopub.status.idle": "2023-01-22T12:39:22.478746Z",
          "shell.execute_reply": "2023-01-22T12:39:22.477887Z"
        },
        "papermill": {
          "duration": 0.045874,
          "end_time": "2023-01-22T12:39:22.481212",
          "exception": false,
          "start_time": "2023-01-22T12:39:22.435338",
          "status": "completed"
        },
        "tags": [],
        "id": "e743c4d2",
        "outputId": "1bc4f260-fd87-4798-e993-bf3ffbcbd18c"
      },
      "outputs": [
        {
          "name": "stdout",
          "output_type": "stream",
          "text": [
            "POSTED_BY            ---->          3 unique values\n",
            "BHK_OR_RK            ---->          2 unique values\n"
          ]
        },
        {
          "data": {
            "text/plain": [
              "['POSTED_BY', 'BHK_OR_RK']"
            ]
          },
          "execution_count": 14,
          "metadata": {},
          "output_type": "execute_result"
        }
      ],
      "source": [
        "cat_col=[]\n",
        "for col in df.select_dtypes(include='object'):\n",
        "    if(col!=target):\n",
        "        print(f\"{col:20} ----> {df[col].nunique():10} unique values\")\n",
        "        cat_col.append(col)\n",
        "cat_col"
      ]
    },
    {
      "cell_type": "code",
      "execution_count": null,
      "id": "a7e73da0",
      "metadata": {
        "execution": {
          "iopub.execute_input": "2023-01-22T12:39:22.527201Z",
          "iopub.status.busy": "2023-01-22T12:39:22.526782Z",
          "iopub.status.idle": "2023-01-22T12:39:22.545138Z",
          "shell.execute_reply": "2023-01-22T12:39:22.543959Z"
        },
        "papermill": {
          "duration": 0.043771,
          "end_time": "2023-01-22T12:39:22.547739",
          "exception": false,
          "start_time": "2023-01-22T12:39:22.503968",
          "status": "completed"
        },
        "tags": [],
        "id": "a7e73da0",
        "outputId": "1fb34399-ab5d-4e7b-9945-e19def96aa8e"
      },
      "outputs": [
        {
          "name": "stdout",
          "output_type": "stream",
          "text": [
            "UNDER_CONSTRUCTION   ---->          2 unique values\n",
            "RERA                 ---->          2 unique values\n",
            "BHK_NO.              ---->         16 unique values\n",
            "READY_TO_MOVE        ---->          2 unique values\n",
            "RESALE               ---->          2 unique values\n"
          ]
        },
        {
          "data": {
            "text/plain": [
              "['UNDER_CONSTRUCTION', 'RERA', 'BHK_NO.', 'READY_TO_MOVE', 'RESALE']"
            ]
          },
          "execution_count": 15,
          "metadata": {},
          "output_type": "execute_result"
        }
      ],
      "source": [
        "num_cat_col=[]\n",
        "for col in df.select_dtypes(include='int64'):\n",
        "    if(col!=target):\n",
        "        print(f\"{col:20} ----> {df[col].nunique():10} unique values\")\n",
        "        num_cat_col.append(col)\n",
        "num_cat_col"
      ]
    },
    {
      "cell_type": "code",
      "execution_count": null,
      "id": "693ab73a",
      "metadata": {
        "execution": {
          "iopub.execute_input": "2023-01-22T12:39:22.594134Z",
          "iopub.status.busy": "2023-01-22T12:39:22.593711Z",
          "iopub.status.idle": "2023-01-22T12:39:22.613184Z",
          "shell.execute_reply": "2023-01-22T12:39:22.612220Z"
        },
        "papermill": {
          "duration": 0.046331,
          "end_time": "2023-01-22T12:39:22.616725",
          "exception": false,
          "start_time": "2023-01-22T12:39:22.570394",
          "status": "completed"
        },
        "tags": [],
        "id": "693ab73a",
        "outputId": "8365708b-2dc8-4ee8-9b88-0fad62cd97a7"
      },
      "outputs": [
        {
          "name": "stdout",
          "output_type": "stream",
          "text": [
            "SQUARE_FT                      ---->      19561 unique values\n",
            "LONGITUDE                      ---->       4087 unique values\n",
            "LATITUDE                       ---->       4078 unique values\n"
          ]
        },
        {
          "data": {
            "text/plain": [
              "['SQUARE_FT', 'LONGITUDE', 'LATITUDE']"
            ]
          },
          "execution_count": 16,
          "metadata": {},
          "output_type": "execute_result"
        }
      ],
      "source": [
        "num_col=[]\n",
        "for col in df.select_dtypes(include='float64'):\n",
        "    if(col!=target):\n",
        "        print(f\"{col:30} ----> {df[col].nunique():10} unique values\")\n",
        "        num_col.append(col)\n",
        "num_col"
      ]
    },
    {
      "cell_type": "code",
      "execution_count": null,
      "id": "bee42d6e",
      "metadata": {
        "execution": {
          "iopub.execute_input": "2023-01-22T12:39:22.663284Z",
          "iopub.status.busy": "2023-01-22T12:39:22.662874Z",
          "iopub.status.idle": "2023-01-22T12:39:23.093798Z",
          "shell.execute_reply": "2023-01-22T12:39:23.092830Z"
        },
        "papermill": {
          "duration": 0.456239,
          "end_time": "2023-01-22T12:39:23.095860",
          "exception": false,
          "start_time": "2023-01-22T12:39:22.639621",
          "status": "completed"
        },
        "tags": [],
        "id": "bee42d6e",
        "outputId": "74e078d1-9aee-47cd-93af-746b29771cd1"
      },
      "outputs": [
        {
          "data": {
            "image/png": "[encoded data removed]",
            "text/plain": [
              "<Figure size 2160x1440 with 2 Axes>"
            ]
          },
          "metadata": {
            "needs_background": "light"
          },
          "output_type": "display_data"
        }
      ],
      "source": [
        "plt.figure(figsize=(30,20))\n",
        "j=1\n",
        "for columns in df.select_dtypes(include='object'):\n",
        "    plt.subplot(5,4,j)\n",
        "    sns.countplot(x=columns,data=df)\n",
        "    j+=1\n",
        "plt.tight_layout()"
      ]
    },
    {
      "cell_type": "code",
      "execution_count": null,
      "id": "e4106445",
      "metadata": {
        "execution": {
          "iopub.execute_input": "2023-01-22T12:39:23.129565Z",
          "iopub.status.busy": "2023-01-22T12:39:23.128806Z",
          "iopub.status.idle": "2023-01-22T12:39:24.182566Z",
          "shell.execute_reply": "2023-01-22T12:39:24.181628Z"
        },
        "papermill": {
          "duration": 1.074099,
          "end_time": "2023-01-22T12:39:24.185958",
          "exception": false,
          "start_time": "2023-01-22T12:39:23.111859",
          "status": "completed"
        },
        "tags": [],
        "id": "e4106445",
        "outputId": "143ff12c-9d46-479a-a7fa-e44e7e4b9184"
      },
      "outputs": [
        {
          "data": {
            "image/png": "[encoded data removed]",
            "text/plain": [
              "<Figure size 2160x1440 with 2 Axes>"
            ]
          },
          "metadata": {
            "needs_background": "light"
          },
          "output_type": "display_data"
        }
      ],
      "source": [
        "plt.figure(figsize=(30,20))\n",
        "j=1\n",
        "for columns in df.select_dtypes(include='object'):\n",
        "    plt.subplot(5,4,j)\n",
        "    sns.barplot(y=target,x=columns,data=df)\n",
        "    j+=1\n",
        "plt.tight_layout()"
      ]
    },
    {
      "cell_type": "code",
      "execution_count": null,
      "id": "e3186c49",
      "metadata": {
        "execution": {
          "iopub.execute_input": "2023-01-22T12:39:24.220729Z",
          "iopub.status.busy": "2023-01-22T12:39:24.220419Z",
          "iopub.status.idle": "2023-01-22T12:39:25.079560Z",
          "shell.execute_reply": "2023-01-22T12:39:25.078559Z"
        },
        "papermill": {
          "duration": 0.878596,
          "end_time": "2023-01-22T12:39:25.081750",
          "exception": false,
          "start_time": "2023-01-22T12:39:24.203154",
          "status": "completed"
        },
        "tags": [],
        "id": "e3186c49",
        "outputId": "8bdc867a-4817-455d-eb3f-2191e9bcf866"
      },
      "outputs": [
        {
          "data": {
            "image/png": "[encoded data removed]",
            "text/plain": [
              "<Figure size 2160x576 with 5 Axes>"
            ]
          },
          "metadata": {
            "needs_background": "light"
          },
          "output_type": "display_data"
        }
      ],
      "source": [
        "plt.figure(figsize=(30,8))\n",
        "j=1\n",
        "for columns in num_cat_col:\n",
        "    plt.subplot(2,3,j)\n",
        "    sns.countplot(x=columns,data=df)\n",
        "    j+=1\n",
        "plt.tight_layout()"
      ]
    },
    {
      "cell_type": "code",
      "execution_count": null,
      "id": "e1cba8cb",
      "metadata": {
        "execution": {
          "iopub.execute_input": "2023-01-22T12:39:25.118389Z",
          "iopub.status.busy": "2023-01-22T12:39:25.118098Z",
          "iopub.status.idle": "2023-01-22T12:39:27.738834Z",
          "shell.execute_reply": "2023-01-22T12:39:27.737931Z"
        },
        "papermill": {
          "duration": 2.642289,
          "end_time": "2023-01-22T12:39:27.741084",
          "exception": false,
          "start_time": "2023-01-22T12:39:25.098795",
          "status": "completed"
        },
        "tags": [],
        "id": "e1cba8cb",
        "outputId": "215bedbc-b2c7-4790-9956-17c74bb9d4c4"
      },
      "outputs": [
        {
          "data": {
            "image/png": "[encoded data removed]",
            "text/plain": [
              "<Figure size 2160x576 with 5 Axes>"
            ]
          },
          "metadata": {
            "needs_background": "light"
          },
          "output_type": "display_data"
        }
      ],
      "source": [
        "plt.figure(figsize=(30,8))\n",
        "j=1\n",
        "for columns in num_cat_col:\n",
        "    plt.subplot(2,3,j)\n",
        "    sns.barplot(y=target,x=columns,data=df)\n",
        "    j+=1\n",
        "plt.tight_layout()"
      ]
    },
    {
      "cell_type": "code",
      "execution_count": null,
      "id": "76101803",
      "metadata": {
        "execution": {
          "iopub.execute_input": "2023-01-22T12:39:27.776299Z",
          "iopub.status.busy": "2023-01-22T12:39:27.776003Z",
          "iopub.status.idle": "2023-01-22T12:39:29.221098Z",
          "shell.execute_reply": "2023-01-22T12:39:29.220134Z"
        },
        "papermill": {
          "duration": 1.465377,
          "end_time": "2023-01-22T12:39:29.223674",
          "exception": false,
          "start_time": "2023-01-22T12:39:27.758297",
          "status": "completed"
        },
        "tags": [],
        "id": "76101803",
        "outputId": "7adf0ac7-9b79-488c-a3f8-61ea5c357a8e"
      },
      "outputs": [
        {
          "data": {
            "image/png": "[encoded data removed]",
            "text/plain": [
              "<Figure size 2160x432 with 3 Axes>"
            ]
          },
          "metadata": {
            "needs_background": "light"
          },
          "output_type": "display_data"
        }
      ],
      "source": [
        "plt.figure(figsize=(30,6))\n",
        "j=1\n",
        "for columns in num_col:\n",
        "    plt.subplot(1,3,j)\n",
        "    sns.kdeplot(x=columns,data=df)\n",
        "    j+=1\n",
        "plt.tight_layout()"
      ]
    },
    {
      "cell_type": "code",
      "execution_count": null,
      "id": "5b59c480",
      "metadata": {
        "execution": {
          "iopub.execute_input": "2023-01-22T12:39:29.261651Z",
          "iopub.status.busy": "2023-01-22T12:39:29.261330Z",
          "iopub.status.idle": "2023-01-22T12:39:30.378713Z",
          "shell.execute_reply": "2023-01-22T12:39:30.377699Z"
        },
        "papermill": {
          "duration": 1.138678,
          "end_time": "2023-01-22T12:39:30.380929",
          "exception": false,
          "start_time": "2023-01-22T12:39:29.242251",
          "status": "completed"
        },
        "tags": [],
        "id": "5b59c480",
        "outputId": "609e6df4-6c00-4c76-bb22-53bfd9dd7eb9"
      },
      "outputs": [
        {
          "data": {
            "image/png": "[encoded data removed]",
            "text/plain": [
              "<Figure size 2160x504 with 3 Axes>"
            ]
          },
          "metadata": {
            "needs_background": "light"
          },
          "output_type": "display_data"
        }
      ],
      "source": [
        "plt.figure(figsize=(30,7))\n",
        "j=1\n",
        "for columns in num_col:\n",
        "    plt.subplot(1,3,j)\n",
        "    sns.scatterplot(y=target,x=columns,data=df)\n",
        "    j+=1\n",
        "plt.tight_layout()"
      ]
    },
    {
      "cell_type": "markdown",
      "id": "4d75a6f9",
      "metadata": {
        "papermill": {
          "duration": 0.01877,
          "end_time": "2023-01-22T12:39:30.418716",
          "exception": false,
          "start_time": "2023-01-22T12:39:30.399946",
          "status": "completed"
        },
        "tags": [],
        "id": "4d75a6f9"
      },
      "source": [
        "# Data Preprocess Pipeline"
      ]
    },
    {
      "cell_type": "code",
      "execution_count": null,
      "id": "1d9a0a7d",
      "metadata": {
        "execution": {
          "iopub.execute_input": "2023-01-22T12:39:30.456812Z",
          "iopub.status.busy": "2023-01-22T12:39:30.456473Z",
          "iopub.status.idle": "2023-01-22T12:39:30.472335Z",
          "shell.execute_reply": "2023-01-22T12:39:30.470331Z"
        },
        "papermill": {
          "duration": 0.037447,
          "end_time": "2023-01-22T12:39:30.474555",
          "exception": false,
          "start_time": "2023-01-22T12:39:30.437108",
          "status": "completed"
        },
        "tags": [],
        "id": "1d9a0a7d",
        "outputId": "1b211bc9-aa71-4e21-b54a-73fc728f8006"
      },
      "outputs": [
        {
          "name": "stdout",
          "output_type": "stream",
          "text": [
            "<class 'pandas.core.frame.DataFrame'>\n",
            "RangeIndex: 29451 entries, 0 to 29450\n",
            "Data columns (total 11 columns):\n",
            " #   Column                 Non-Null Count  Dtype  \n",
            "---  ------                 --------------  -----  \n",
            " 0   POSTED_BY              29451 non-null  object \n",
            " 1   UNDER_CONSTRUCTION     29451 non-null  int64  \n",
            " 2   RERA                   29451 non-null  int64  \n",
            " 3   BHK_NO.                29451 non-null  int64  \n",
            " 4   BHK_OR_RK              29451 non-null  object \n",
            " 5   SQUARE_FT              29451 non-null  float64\n",
            " 6   READY_TO_MOVE          29451 non-null  int64  \n",
            " 7   RESALE                 29451 non-null  int64  \n",
            " 8   LONGITUDE              29451 non-null  float64\n",
            " 9   LATITUDE               29451 non-null  float64\n",
            " 10  TARGET(PRICE_IN_LACS)  29451 non-null  float64\n",
            "dtypes: float64(4), int64(5), object(2)\n",
            "memory usage: 2.5+ MB\n"
          ]
        }
      ],
      "source": [
        "df.info()"
      ]
    },
    {
      "cell_type": "code",
      "execution_count": null,
      "id": "a121bc21",
      "metadata": {
        "execution": {
          "iopub.execute_input": "2023-01-22T12:39:30.513113Z",
          "iopub.status.busy": "2023-01-22T12:39:30.512239Z",
          "iopub.status.idle": "2023-01-22T12:39:30.518069Z",
          "shell.execute_reply": "2023-01-22T12:39:30.517208Z"
        },
        "papermill": {
          "duration": 0.027171,
          "end_time": "2023-01-22T12:39:30.520088",
          "exception": false,
          "start_time": "2023-01-22T12:39:30.492917",
          "status": "completed"
        },
        "tags": [],
        "id": "a121bc21"
      },
      "outputs": [],
      "source": [
        "oh=OneHotEncoder(drop='first',handle_unknown='ignore')\n",
        "\n",
        "ms,ss=MinMaxScaler(),StandardScaler()\n",
        "\n",
        "\n",
        "ct=ColumnTransformer([\n",
        "    ('cat_encoder',oh,make_column_selector(dtype_include='object')),\n",
        "    ('num_encoder',ms,make_column_selector(dtype_include='float64'))\n",
        "],remainder='passthrough',n_jobs=-1)"
      ]
    },
    {
      "cell_type": "markdown",
      "id": "44a1cf69",
      "metadata": {
        "papermill": {
          "duration": 0.017831,
          "end_time": "2023-01-22T12:39:30.556430",
          "exception": false,
          "start_time": "2023-01-22T12:39:30.538599",
          "status": "completed"
        },
        "tags": [],
        "id": "44a1cf69"
      },
      "source": [
        "# Separate X and Y"
      ]
    },
    {
      "cell_type": "code",
      "execution_count": null,
      "id": "b55db116",
      "metadata": {
        "execution": {
          "iopub.execute_input": "2023-01-22T12:39:30.594464Z",
          "iopub.status.busy": "2023-01-22T12:39:30.593705Z",
          "iopub.status.idle": "2023-01-22T12:39:30.606240Z",
          "shell.execute_reply": "2023-01-22T12:39:30.605095Z"
        },
        "papermill": {
          "duration": 0.033655,
          "end_time": "2023-01-22T12:39:30.608494",
          "exception": false,
          "start_time": "2023-01-22T12:39:30.574839",
          "status": "completed"
        },
        "tags": [],
        "id": "b55db116",
        "outputId": "cc2dad92-36ed-46ca-c39b-64fc42066771"
      },
      "outputs": [
        {
          "data": {
            "text/html": [
              "<div>\n",
              "<style scoped>\n",
              "    .dataframe tbody tr th:only-of-type {\n",
              "        vertical-align: middle;\n",
              "    }\n",
              "\n",
              "    .dataframe tbody tr th {\n",
              "        vertical-align: top;\n",
              "    }\n",
              "\n",
              "    .dataframe thead th {\n",
              "        text-align: right;\n",
              "    }\n",
              "</style>\n",
              "<table border=\"1\" class=\"dataframe\">\n",
              "  <thead>\n",
              "    <tr style=\"text-align: right;\">\n",
              "      <th></th>\n",
              "      <th>POSTED_BY</th>\n",
              "      <th>UNDER_CONSTRUCTION</th>\n",
              "      <th>RERA</th>\n",
              "      <th>BHK_NO.</th>\n",
              "      <th>BHK_OR_RK</th>\n",
              "      <th>SQUARE_FT</th>\n",
              "      <th>READY_TO_MOVE</th>\n",
              "      <th>RESALE</th>\n",
              "      <th>LONGITUDE</th>\n",
              "      <th>LATITUDE</th>\n",
              "      <th>TARGET(PRICE_IN_LACS)</th>\n",
              "    </tr>\n",
              "  </thead>\n",
              "  <tbody>\n",
              "    <tr>\n",
              "      <th>0</th>\n",
              "      <td>Owner</td>\n",
              "      <td>0</td>\n",
              "      <td>0</td>\n",
              "      <td>2</td>\n",
              "      <td>BHK</td>\n",
              "      <td>1300.236407</td>\n",
              "      <td>1</td>\n",
              "      <td>1</td>\n",
              "      <td>12.96991</td>\n",
              "      <td>77.59796</td>\n",
              "      <td>55.0</td>\n",
              "    </tr>\n",
              "  </tbody>\n",
              "</table>\n",
              "</div>"
            ],
            "text/plain": [
              "  POSTED_BY  UNDER_CONSTRUCTION  RERA  BHK_NO. BHK_OR_RK    SQUARE_FT  \\\n",
              "0     Owner                   0     0        2       BHK  1300.236407   \n",
              "\n",
              "   READY_TO_MOVE  RESALE  LONGITUDE  LATITUDE  TARGET(PRICE_IN_LACS)  \n",
              "0              1       1   12.96991  77.59796                   55.0  "
            ]
          },
          "execution_count": 25,
          "metadata": {},
          "output_type": "execute_result"
        }
      ],
      "source": [
        "df.head(1)"
      ]
    },
    {
      "cell_type": "code",
      "execution_count": null,
      "id": "5328298f",
      "metadata": {
        "execution": {
          "iopub.execute_input": "2023-01-22T12:39:30.648738Z",
          "iopub.status.busy": "2023-01-22T12:39:30.647803Z",
          "iopub.status.idle": "2023-01-22T12:39:30.662991Z",
          "shell.execute_reply": "2023-01-22T12:39:30.661777Z"
        },
        "papermill": {
          "duration": 0.03719,
          "end_time": "2023-01-22T12:39:30.665361",
          "exception": false,
          "start_time": "2023-01-22T12:39:30.628171",
          "status": "completed"
        },
        "tags": [],
        "id": "5328298f",
        "outputId": "d5c4cadc-5dda-45a7-f091-3d5914372f87"
      },
      "outputs": [
        {
          "data": {
            "text/html": [
              "<div>\n",
              "<style scoped>\n",
              "    .dataframe tbody tr th:only-of-type {\n",
              "        vertical-align: middle;\n",
              "    }\n",
              "\n",
              "    .dataframe tbody tr th {\n",
              "        vertical-align: top;\n",
              "    }\n",
              "\n",
              "    .dataframe thead th {\n",
              "        text-align: right;\n",
              "    }\n",
              "</style>\n",
              "<table border=\"1\" class=\"dataframe\">\n",
              "  <thead>\n",
              "    <tr style=\"text-align: right;\">\n",
              "      <th></th>\n",
              "      <th>POSTED_BY</th>\n",
              "      <th>UNDER_CONSTRUCTION</th>\n",
              "      <th>RERA</th>\n",
              "      <th>BHK_NO.</th>\n",
              "      <th>BHK_OR_RK</th>\n",
              "      <th>SQUARE_FT</th>\n",
              "      <th>READY_TO_MOVE</th>\n",
              "      <th>RESALE</th>\n",
              "      <th>LONGITUDE</th>\n",
              "      <th>LATITUDE</th>\n",
              "    </tr>\n",
              "  </thead>\n",
              "  <tbody>\n",
              "    <tr>\n",
              "      <th>0</th>\n",
              "      <td>Owner</td>\n",
              "      <td>0</td>\n",
              "      <td>0</td>\n",
              "      <td>2</td>\n",
              "      <td>BHK</td>\n",
              "      <td>1300.236407</td>\n",
              "      <td>1</td>\n",
              "      <td>1</td>\n",
              "      <td>12.96991</td>\n",
              "      <td>77.59796</td>\n",
              "    </tr>\n",
              "  </tbody>\n",
              "</table>\n",
              "</div>"
            ],
            "text/plain": [
              "  POSTED_BY  UNDER_CONSTRUCTION  RERA  BHK_NO. BHK_OR_RK    SQUARE_FT  \\\n",
              "0     Owner                   0     0        2       BHK  1300.236407   \n",
              "\n",
              "   READY_TO_MOVE  RESALE  LONGITUDE  LATITUDE  \n",
              "0              1       1   12.96991  77.59796  "
            ]
          },
          "execution_count": 26,
          "metadata": {},
          "output_type": "execute_result"
        }
      ],
      "source": [
        "X=df.drop([target],axis=1)\n",
        "y=df[[target]]\n",
        "X.head(1)"
      ]
    },
    {
      "cell_type": "code",
      "execution_count": null,
      "id": "11ca96b8",
      "metadata": {
        "execution": {
          "iopub.execute_input": "2023-01-22T12:39:30.706438Z",
          "iopub.status.busy": "2023-01-22T12:39:30.705611Z",
          "iopub.status.idle": "2023-01-22T12:39:30.714322Z",
          "shell.execute_reply": "2023-01-22T12:39:30.713250Z"
        },
        "papermill": {
          "duration": 0.030534,
          "end_time": "2023-01-22T12:39:30.716395",
          "exception": false,
          "start_time": "2023-01-22T12:39:30.685861",
          "status": "completed"
        },
        "tags": [],
        "id": "11ca96b8",
        "outputId": "7cebda6e-b14a-4d9c-d511-c8b4fd7305a6"
      },
      "outputs": [
        {
          "data": {
            "text/html": [
              "<div>\n",
              "<style scoped>\n",
              "    .dataframe tbody tr th:only-of-type {\n",
              "        vertical-align: middle;\n",
              "    }\n",
              "\n",
              "    .dataframe tbody tr th {\n",
              "        vertical-align: top;\n",
              "    }\n",
              "\n",
              "    .dataframe thead th {\n",
              "        text-align: right;\n",
              "    }\n",
              "</style>\n",
              "<table border=\"1\" class=\"dataframe\">\n",
              "  <thead>\n",
              "    <tr style=\"text-align: right;\">\n",
              "      <th></th>\n",
              "      <th>TARGET(PRICE_IN_LACS)</th>\n",
              "    </tr>\n",
              "  </thead>\n",
              "  <tbody>\n",
              "    <tr>\n",
              "      <th>0</th>\n",
              "      <td>55.0</td>\n",
              "    </tr>\n",
              "  </tbody>\n",
              "</table>\n",
              "</div>"
            ],
            "text/plain": [
              "   TARGET(PRICE_IN_LACS)\n",
              "0                   55.0"
            ]
          },
          "execution_count": 27,
          "metadata": {},
          "output_type": "execute_result"
        }
      ],
      "source": [
        "y.head(1)"
      ]
    },
    {
      "cell_type": "markdown",
      "id": "46b397fa",
      "metadata": {
        "papermill": {
          "duration": 0.018456,
          "end_time": "2023-01-22T12:39:30.754088",
          "exception": false,
          "start_time": "2023-01-22T12:39:30.735632",
          "status": "completed"
        },
        "tags": [],
        "id": "46b397fa"
      },
      "source": [
        "# Train Test Split"
      ]
    },
    {
      "cell_type": "code",
      "execution_count": null,
      "id": "34851c39",
      "metadata": {
        "execution": {
          "iopub.execute_input": "2023-01-22T12:39:30.793052Z",
          "iopub.status.busy": "2023-01-22T12:39:30.792258Z",
          "iopub.status.idle": "2023-01-22T12:39:30.802675Z",
          "shell.execute_reply": "2023-01-22T12:39:30.801819Z"
        },
        "papermill": {
          "duration": 0.031935,
          "end_time": "2023-01-22T12:39:30.804812",
          "exception": false,
          "start_time": "2023-01-22T12:39:30.772877",
          "status": "completed"
        },
        "tags": [],
        "id": "34851c39"
      },
      "outputs": [],
      "source": [
        "X_train,X_test,y_train,y_test=train_test_split(X,y,test_size=0.20,random_state=108)"
      ]
    },
    {
      "cell_type": "code",
      "execution_count": null,
      "id": "0ec616c7",
      "metadata": {
        "execution": {
          "iopub.execute_input": "2023-01-22T12:39:30.843407Z",
          "iopub.status.busy": "2023-01-22T12:39:30.842626Z",
          "iopub.status.idle": "2023-01-22T12:39:30.848950Z",
          "shell.execute_reply": "2023-01-22T12:39:30.847990Z"
        },
        "papermill": {
          "duration": 0.027558,
          "end_time": "2023-01-22T12:39:30.850891",
          "exception": false,
          "start_time": "2023-01-22T12:39:30.823333",
          "status": "completed"
        },
        "tags": [],
        "id": "0ec616c7",
        "outputId": "d3aea4d6-8cab-4737-e816-287523700554"
      },
      "outputs": [
        {
          "data": {
            "text/plain": [
              "((23560, 10), (23560, 1))"
            ]
          },
          "execution_count": 29,
          "metadata": {},
          "output_type": "execute_result"
        }
      ],
      "source": [
        "X_train.shape,y_train.shape"
      ]
    },
    {
      "cell_type": "code",
      "execution_count": null,
      "id": "75eda766",
      "metadata": {
        "execution": {
          "iopub.execute_input": "2023-01-22T12:39:30.889734Z",
          "iopub.status.busy": "2023-01-22T12:39:30.888871Z",
          "iopub.status.idle": "2023-01-22T12:39:30.895201Z",
          "shell.execute_reply": "2023-01-22T12:39:30.894239Z"
        },
        "papermill": {
          "duration": 0.028057,
          "end_time": "2023-01-22T12:39:30.897385",
          "exception": false,
          "start_time": "2023-01-22T12:39:30.869328",
          "status": "completed"
        },
        "tags": [],
        "id": "75eda766",
        "outputId": "6002e40d-ea4e-477f-e34c-cd4f17aae491"
      },
      "outputs": [
        {
          "data": {
            "text/plain": [
              "((5891, 10), (5891, 1))"
            ]
          },
          "execution_count": 30,
          "metadata": {},
          "output_type": "execute_result"
        }
      ],
      "source": [
        "X_test.shape,y_test.shape"
      ]
    },
    {
      "cell_type": "code",
      "execution_count": null,
      "id": "62876126",
      "metadata": {
        "execution": {
          "iopub.execute_input": "2023-01-22T12:39:30.935902Z",
          "iopub.status.busy": "2023-01-22T12:39:30.935617Z",
          "iopub.status.idle": "2023-01-22T12:39:30.948005Z",
          "shell.execute_reply": "2023-01-22T12:39:30.947040Z"
        },
        "papermill": {
          "duration": 0.033815,
          "end_time": "2023-01-22T12:39:30.949917",
          "exception": false,
          "start_time": "2023-01-22T12:39:30.916102",
          "status": "completed"
        },
        "tags": [],
        "id": "62876126",
        "outputId": "64d2112d-a9f0-41e3-9c6a-5ed058de0c2d"
      },
      "outputs": [
        {
          "data": {
            "text/html": [
              "<div>\n",
              "<style scoped>\n",
              "    .dataframe tbody tr th:only-of-type {\n",
              "        vertical-align: middle;\n",
              "    }\n",
              "\n",
              "    .dataframe tbody tr th {\n",
              "        vertical-align: top;\n",
              "    }\n",
              "\n",
              "    .dataframe thead th {\n",
              "        text-align: right;\n",
              "    }\n",
              "</style>\n",
              "<table border=\"1\" class=\"dataframe\">\n",
              "  <thead>\n",
              "    <tr style=\"text-align: right;\">\n",
              "      <th></th>\n",
              "      <th>POSTED_BY</th>\n",
              "      <th>UNDER_CONSTRUCTION</th>\n",
              "      <th>RERA</th>\n",
              "      <th>BHK_NO.</th>\n",
              "      <th>BHK_OR_RK</th>\n",
              "      <th>SQUARE_FT</th>\n",
              "      <th>READY_TO_MOVE</th>\n",
              "      <th>RESALE</th>\n",
              "      <th>LONGITUDE</th>\n",
              "      <th>LATITUDE</th>\n",
              "    </tr>\n",
              "  </thead>\n",
              "  <tbody>\n",
              "    <tr>\n",
              "      <th>17538</th>\n",
              "      <td>Owner</td>\n",
              "      <td>0</td>\n",
              "      <td>0</td>\n",
              "      <td>2</td>\n",
              "      <td>BHK</td>\n",
              "      <td>1189.885969</td>\n",
              "      <td>1</td>\n",
              "      <td>1</td>\n",
              "      <td>26.351855</td>\n",
              "      <td>86.326143</td>\n",
              "    </tr>\n",
              "    <tr>\n",
              "      <th>26474</th>\n",
              "      <td>Dealer</td>\n",
              "      <td>0</td>\n",
              "      <td>0</td>\n",
              "      <td>3</td>\n",
              "      <td>BHK</td>\n",
              "      <td>1449.975834</td>\n",
              "      <td>1</td>\n",
              "      <td>1</td>\n",
              "      <td>26.832353</td>\n",
              "      <td>75.841749</td>\n",
              "    </tr>\n",
              "  </tbody>\n",
              "</table>\n",
              "</div>"
            ],
            "text/plain": [
              "      POSTED_BY  UNDER_CONSTRUCTION  RERA  BHK_NO. BHK_OR_RK    SQUARE_FT  \\\n",
              "17538     Owner                   0     0        2       BHK  1189.885969   \n",
              "26474    Dealer                   0     0        3       BHK  1449.975834   \n",
              "\n",
              "       READY_TO_MOVE  RESALE  LONGITUDE   LATITUDE  \n",
              "17538              1       1  26.351855  86.326143  \n",
              "26474              1       1  26.832353  75.841749  "
            ]
          },
          "execution_count": 31,
          "metadata": {},
          "output_type": "execute_result"
        }
      ],
      "source": [
        "X_test.head(2)"
      ]
    },
    {
      "cell_type": "code",
      "execution_count": null,
      "id": "f4e7521a",
      "metadata": {
        "execution": {
          "iopub.execute_input": "2023-01-22T12:39:30.993181Z",
          "iopub.status.busy": "2023-01-22T12:39:30.991617Z",
          "iopub.status.idle": "2023-01-22T12:39:31.000943Z",
          "shell.execute_reply": "2023-01-22T12:39:30.999702Z"
        },
        "papermill": {
          "duration": 0.033613,
          "end_time": "2023-01-22T12:39:31.003700",
          "exception": false,
          "start_time": "2023-01-22T12:39:30.970087",
          "status": "completed"
        },
        "tags": [],
        "id": "f4e7521a",
        "outputId": "c792064e-aa8d-4c2c-ad1b-15d5815ef063"
      },
      "outputs": [
        {
          "data": {
            "text/html": [
              "<div>\n",
              "<style scoped>\n",
              "    .dataframe tbody tr th:only-of-type {\n",
              "        vertical-align: middle;\n",
              "    }\n",
              "\n",
              "    .dataframe tbody tr th {\n",
              "        vertical-align: top;\n",
              "    }\n",
              "\n",
              "    .dataframe thead th {\n",
              "        text-align: right;\n",
              "    }\n",
              "</style>\n",
              "<table border=\"1\" class=\"dataframe\">\n",
              "  <thead>\n",
              "    <tr style=\"text-align: right;\">\n",
              "      <th></th>\n",
              "      <th>TARGET(PRICE_IN_LACS)</th>\n",
              "    </tr>\n",
              "  </thead>\n",
              "  <tbody>\n",
              "    <tr>\n",
              "      <th>17538</th>\n",
              "      <td>24.0</td>\n",
              "    </tr>\n",
              "    <tr>\n",
              "      <th>26474</th>\n",
              "      <td>30.0</td>\n",
              "    </tr>\n",
              "  </tbody>\n",
              "</table>\n",
              "</div>"
            ],
            "text/plain": [
              "       TARGET(PRICE_IN_LACS)\n",
              "17538                   24.0\n",
              "26474                   30.0"
            ]
          },
          "execution_count": 32,
          "metadata": {},
          "output_type": "execute_result"
        }
      ],
      "source": [
        "y_test.head(2)"
      ]
    },
    {
      "cell_type": "markdown",
      "id": "e5f272b5",
      "metadata": {
        "papermill": {
          "duration": 0.019292,
          "end_time": "2023-01-22T12:39:31.043018",
          "exception": false,
          "start_time": "2023-01-22T12:39:31.023726",
          "status": "completed"
        },
        "tags": [],
        "id": "e5f272b5"
      },
      "source": [
        "# Data preprocess"
      ]
    },
    {
      "cell_type": "code",
      "execution_count": null,
      "id": "87091008",
      "metadata": {
        "execution": {
          "iopub.execute_input": "2023-01-22T12:39:31.082519Z",
          "iopub.status.busy": "2023-01-22T12:39:31.082225Z",
          "iopub.status.idle": "2023-01-22T12:39:31.097165Z",
          "shell.execute_reply": "2023-01-22T12:39:31.095923Z"
        },
        "papermill": {
          "duration": 0.037938,
          "end_time": "2023-01-22T12:39:31.099980",
          "exception": false,
          "start_time": "2023-01-22T12:39:31.062042",
          "status": "completed"
        },
        "tags": [],
        "id": "87091008",
        "outputId": "cbf5e6c8-3362-4abd-85bb-5d3e3b1b4598"
      },
      "outputs": [
        {
          "name": "stdout",
          "output_type": "stream",
          "text": [
            "<class 'pandas.core.frame.DataFrame'>\n",
            "RangeIndex: 29451 entries, 0 to 29450\n",
            "Data columns (total 11 columns):\n",
            " #   Column                 Non-Null Count  Dtype  \n",
            "---  ------                 --------------  -----  \n",
            " 0   POSTED_BY              29451 non-null  object \n",
            " 1   UNDER_CONSTRUCTION     29451 non-null  int64  \n",
            " 2   RERA                   29451 non-null  int64  \n",
            " 3   BHK_NO.                29451 non-null  int64  \n",
            " 4   BHK_OR_RK              29451 non-null  object \n",
            " 5   SQUARE_FT              29451 non-null  float64\n",
            " 6   READY_TO_MOVE          29451 non-null  int64  \n",
            " 7   RESALE                 29451 non-null  int64  \n",
            " 8   LONGITUDE              29451 non-null  float64\n",
            " 9   LATITUDE               29451 non-null  float64\n",
            " 10  TARGET(PRICE_IN_LACS)  29451 non-null  float64\n",
            "dtypes: float64(4), int64(5), object(2)\n",
            "memory usage: 2.5+ MB\n"
          ]
        }
      ],
      "source": [
        "df.info()"
      ]
    },
    {
      "cell_type": "code",
      "execution_count": null,
      "id": "032cb838",
      "metadata": {
        "execution": {
          "iopub.execute_input": "2023-01-22T12:39:31.141816Z",
          "iopub.status.busy": "2023-01-22T12:39:31.140391Z",
          "iopub.status.idle": "2023-01-22T12:39:32.479286Z",
          "shell.execute_reply": "2023-01-22T12:39:32.478001Z"
        },
        "papermill": {
          "duration": 1.362315,
          "end_time": "2023-01-22T12:39:32.482751",
          "exception": false,
          "start_time": "2023-01-22T12:39:31.120436",
          "status": "completed"
        },
        "tags": [],
        "id": "032cb838"
      },
      "outputs": [],
      "source": [
        "X_train=ct.fit_transform(X_train)\n",
        "X_test=ct.transform(X_test)"
      ]
    },
    {
      "cell_type": "code",
      "execution_count": null,
      "id": "707f256a",
      "metadata": {
        "execution": {
          "iopub.execute_input": "2023-01-22T12:39:32.524826Z",
          "iopub.status.busy": "2023-01-22T12:39:32.524489Z",
          "iopub.status.idle": "2023-01-22T12:39:32.533494Z",
          "shell.execute_reply": "2023-01-22T12:39:32.531969Z"
        },
        "papermill": {
          "duration": 0.031521,
          "end_time": "2023-01-22T12:39:32.535556",
          "exception": false,
          "start_time": "2023-01-22T12:39:32.504035",
          "status": "completed"
        },
        "tags": [],
        "id": "707f256a",
        "outputId": "4f39199e-b65b-4a70-b298-3cfec591d8c6"
      },
      "outputs": [
        {
          "name": "stdout",
          "output_type": "stream",
          "text": [
            "--------------------------------------------------\n",
            "('cat_encoder', OneHotEncoder(drop='first', handle_unknown='ignore'), ['POSTED_BY', 'BHK_OR_RK'])\n",
            "['POSTED_BY_Dealer' 'POSTED_BY_Owner' 'BHK_OR_RK_RK']\n",
            "--------------------------------------------------\n",
            "('num_encoder', MinMaxScaler(), ['SQUARE_FT', 'LONGITUDE', 'LATITUDE'])\n",
            "['SQUARE_FT' 'LONGITUDE' 'LATITUDE']\n",
            "--------------------------------------------------\n",
            "('remainder', 'passthrough', [1, 2, 3, 6, 7])\n",
            "--------------------------------------------------\n"
          ]
        }
      ],
      "source": [
        "print(\"-\"*50)\n",
        "for i in ct.transformers_:\n",
        "    print(i)\n",
        "    if(i[0]!='remainder'):\n",
        "        print(i[1].get_feature_names_out())   \n",
        "    print(\"-\"*50)"
      ]
    },
    {
      "cell_type": "code",
      "execution_count": null,
      "id": "bcdee6b7",
      "metadata": {
        "execution": {
          "iopub.execute_input": "2023-01-22T12:39:32.576034Z",
          "iopub.status.busy": "2023-01-22T12:39:32.575205Z",
          "iopub.status.idle": "2023-01-22T12:39:32.582067Z",
          "shell.execute_reply": "2023-01-22T12:39:32.581043Z"
        },
        "papermill": {
          "duration": 0.029078,
          "end_time": "2023-01-22T12:39:32.584114",
          "exception": false,
          "start_time": "2023-01-22T12:39:32.555036",
          "status": "completed"
        },
        "tags": [],
        "id": "bcdee6b7",
        "outputId": "da439519-a452-42ec-b6dd-fa0d71474e1f"
      },
      "outputs": [
        {
          "data": {
            "text/plain": [
              "((23560, 11), (23560, 1))"
            ]
          },
          "execution_count": 36,
          "metadata": {},
          "output_type": "execute_result"
        }
      ],
      "source": [
        "X_train.shape,y_train.shape"
      ]
    },
    {
      "cell_type": "code",
      "execution_count": null,
      "id": "ed093e48",
      "metadata": {
        "execution": {
          "iopub.execute_input": "2023-01-22T12:39:32.624530Z",
          "iopub.status.busy": "2023-01-22T12:39:32.623895Z",
          "iopub.status.idle": "2023-01-22T12:39:32.633405Z",
          "shell.execute_reply": "2023-01-22T12:39:32.632377Z"
        },
        "papermill": {
          "duration": 0.032364,
          "end_time": "2023-01-22T12:39:32.635501",
          "exception": false,
          "start_time": "2023-01-22T12:39:32.603137",
          "status": "completed"
        },
        "tags": [],
        "id": "ed093e48",
        "outputId": "0c8a5d1f-5951-4e47-a9c0-76694100e9cd"
      },
      "outputs": [
        {
          "name": "stdout",
          "output_type": "stream",
          "text": [
            "Normal Matrix to Dense Array\n"
          ]
        },
        {
          "data": {
            "text/plain": [
              "(array([0.00000000e+00, 1.00000000e+00, 0.00000000e+00, 4.66276636e-06,\n",
              "        6.56228194e-01, 7.53165458e-01, 0.00000000e+00, 0.00000000e+00,\n",
              "        2.00000000e+00, 1.00000000e+00, 1.00000000e+00]),\n",
              " array([[24.]]))"
            ]
          },
          "execution_count": 37,
          "metadata": {},
          "output_type": "execute_result"
        }
      ],
      "source": [
        "tup1=None;tup2=None\n",
        "try:\n",
        "    tup1=(X_test[0].toarray(),y_test.head(1).values)  # scientific notation\n",
        "    print(\"Sparse Matrix to Dense Array\")\n",
        "except:\n",
        "    tup2=(X_test[0],y_test.head(1).values) \n",
        "    print(\"Normal Matrix to Dense Array\")\n",
        "\n",
        "tup1 if(tup1) else tup2"
      ]
    },
    {
      "cell_type": "code",
      "execution_count": null,
      "id": "f2d984b4",
      "metadata": {
        "execution": {
          "iopub.execute_input": "2023-01-22T12:39:32.675983Z",
          "iopub.status.busy": "2023-01-22T12:39:32.675346Z",
          "iopub.status.idle": "2023-01-22T12:39:32.681209Z",
          "shell.execute_reply": "2023-01-22T12:39:32.680283Z"
        },
        "papermill": {
          "duration": 0.028071,
          "end_time": "2023-01-22T12:39:32.683171",
          "exception": false,
          "start_time": "2023-01-22T12:39:32.655100",
          "status": "completed"
        },
        "tags": [],
        "id": "f2d984b4",
        "outputId": "2d355c85-9764-4d32-db5f-546a08184a24"
      },
      "outputs": [
        {
          "data": {
            "text/plain": [
              "((5891, 11), (5891, 1))"
            ]
          },
          "execution_count": 38,
          "metadata": {},
          "output_type": "execute_result"
        }
      ],
      "source": [
        "X_test.shape,y_test.shape"
      ]
    },
    {
      "cell_type": "markdown",
      "id": "193453de",
      "metadata": {
        "papermill": {
          "duration": 0.019133,
          "end_time": "2023-01-22T12:39:32.721360",
          "exception": false,
          "start_time": "2023-01-22T12:39:32.702227",
          "status": "completed"
        },
        "tags": [],
        "id": "193453de"
      },
      "source": [
        "# Model fitting"
      ]
    },
    {
      "cell_type": "code",
      "execution_count": null,
      "id": "fbff1270",
      "metadata": {
        "execution": {
          "iopub.execute_input": "2023-01-22T12:39:32.761711Z",
          "iopub.status.busy": "2023-01-22T12:39:32.760909Z",
          "iopub.status.idle": "2023-01-22T12:39:32.766366Z",
          "shell.execute_reply": "2023-01-22T12:39:32.765514Z"
        },
        "papermill": {
          "duration": 0.027627,
          "end_time": "2023-01-22T12:39:32.768322",
          "exception": false,
          "start_time": "2023-01-22T12:39:32.740695",
          "status": "completed"
        },
        "tags": [],
        "id": "fbff1270"
      },
      "outputs": [],
      "source": [
        "def print_model_locations(model_list):\n",
        "    print(\"-\"*80)\n",
        "    for i,model in enumerate(model_list):\n",
        "        print(model)\n",
        "        print(f\"{model.__class__.__name__:50} at index {i}\")\n",
        "        print(\"-\"*80)"
      ]
    },
    {
      "cell_type": "code",
      "execution_count": null,
      "id": "93a468cd",
      "metadata": {
        "execution": {
          "iopub.execute_input": "2023-01-22T12:39:32.809660Z",
          "iopub.status.busy": "2023-01-22T12:39:32.808905Z",
          "iopub.status.idle": "2023-01-22T12:39:32.814419Z",
          "shell.execute_reply": "2023-01-22T12:39:32.813553Z"
        },
        "papermill": {
          "duration": 0.028279,
          "end_time": "2023-01-22T12:39:32.816358",
          "exception": false,
          "start_time": "2023-01-22T12:39:32.788079",
          "status": "completed"
        },
        "tags": [],
        "id": "93a468cd"
      },
      "outputs": [],
      "source": [
        "def model_fitter(model_list):\n",
        "    print(\"-\"*80)\n",
        "    for reg in model_list:\n",
        "        reg_name=reg.__class__.__name__\n",
        "        reg.fit(X_train,y_train.values.ravel())\n",
        "        print(f\"Fitting {reg_name} done\")\n",
        "        print(\"-\"*80)"
      ]
    },
    {
      "cell_type": "code",
      "execution_count": null,
      "id": "b20aad2e",
      "metadata": {
        "execution": {
          "iopub.execute_input": "2023-01-22T12:39:32.856825Z",
          "iopub.status.busy": "2023-01-22T12:39:32.855967Z",
          "iopub.status.idle": "2023-01-22T12:39:34.827241Z",
          "shell.execute_reply": "2023-01-22T12:39:34.826343Z"
        },
        "papermill": {
          "duration": 1.993832,
          "end_time": "2023-01-22T12:39:34.829630",
          "exception": false,
          "start_time": "2023-01-22T12:39:32.835798",
          "status": "completed"
        },
        "tags": [],
        "id": "b20aad2e",
        "outputId": "79f2bda1-137f-4c9d-aefa-f2734eef1f0c"
      },
      "outputs": [
        {
          "data": {
            "text/html": [
              "<style type='text/css'>\n",
              ".datatable table.frame { margin-bottom: 0; }\n",
              ".datatable table.frame thead { border-bottom: none; }\n",
              ".datatable table.frame tr.coltypes td {  color: #FFFFFF;  line-height: 6px;  padding: 0 0.5em;}\n",
              ".datatable .bool    { background: #DDDD99; }\n",
              ".datatable .object  { background: #565656; }\n",
              ".datatable .int     { background: #5D9E5D; }\n",
              ".datatable .float   { background: #4040CC; }\n",
              ".datatable .str     { background: #CC4040; }\n",
              ".datatable .time    { background: #40CC40; }\n",
              ".datatable .row_index {  background: var(--jp-border-color3);  border-right: 1px solid var(--jp-border-color0);  color: var(--jp-ui-font-color3);  font-size: 9px;}\n",
              ".datatable .frame tbody td { text-align: left; }\n",
              ".datatable .frame tr.coltypes .row_index {  background: var(--jp-border-color0);}\n",
              ".datatable th:nth-child(2) { padding-left: 12px; }\n",
              ".datatable .hellipsis {  color: var(--jp-cell-editor-border-color);}\n",
              ".datatable .vellipsis {  background: var(--jp-layout-color0);  color: var(--jp-cell-editor-border-color);}\n",
              ".datatable .na {  color: var(--jp-cell-editor-border-color);  font-size: 80%;}\n",
              ".datatable .sp {  opacity: 0.25;}\n",
              ".datatable .footer { font-size: 9px; }\n",
              ".datatable .frame_dimensions {  background: var(--jp-border-color3);  border-top: 1px solid var(--jp-border-color0);  color: var(--jp-ui-font-color3);  display: inline-block;  opacity: 0.6;  padding: 1px 10px 1px 5px;}\n",
              "</style>\n"
            ],
            "text/plain": [
              "<IPython.core.display.HTML object>"
            ]
          },
          "metadata": {},
          "output_type": "display_data"
        }
      ],
      "source": [
        "from sklearn.linear_model import LinearRegression,SGDRegressor\n",
        "\n",
        "from sklearn.svm import SVR\n",
        "\n",
        "from sklearn.tree import DecisionTreeRegressor,ExtraTreeRegressor\n",
        "\n",
        "from sklearn.ensemble import RandomForestRegressor,GradientBoostingRegressor,AdaBoostRegressor\n",
        "\n",
        "from xgboost import XGBRegressor\n",
        "\n",
        "from lightgbm import LGBMRegressor"
      ]
    },
    {
      "cell_type": "code",
      "execution_count": null,
      "id": "eef56dc3",
      "metadata": {
        "_kg_hide-input": true,
        "execution": {
          "iopub.execute_input": "2023-01-22T12:39:34.871442Z",
          "iopub.status.busy": "2023-01-22T12:39:34.871156Z",
          "iopub.status.idle": "2023-01-22T12:39:34.875576Z",
          "shell.execute_reply": "2023-01-22T12:39:34.874553Z"
        },
        "papermill": {
          "duration": 0.02716,
          "end_time": "2023-01-22T12:39:34.877530",
          "exception": false,
          "start_time": "2023-01-22T12:39:34.850370",
          "status": "completed"
        },
        "tags": [],
        "id": "eef56dc3"
      },
      "outputs": [],
      "source": [
        "# reg_list=[\n",
        "#     LinearRegression(n_jpbs=-1),\n",
        "#     SGDRegressor(max_iter=5000),\n",
        "#     SVR(),\n",
        "#     ExtraTreeRegressor(),\n",
        "#     DecisionTreeRegressor(),\n",
        "#     LinearRegression(n_jobs=-1),\n",
        "#     RandomForestRegressor(n_estimators=1000,n_jobs=-1),\n",
        "#     AdaBoostRegressor(n_estimators=1000,learning_rate=0.1),\n",
        "#     XGBRegressor(n_estimators=1000,n_jobs=-1,learning_rate=0.1),\n",
        "#     LGBMRegressor(n_estimators=1000,n_jobs=-1,learning_rate=0.1),\n",
        "#     GradientBoostingRegressor(n_estimators=1000,learning_rate=0.1),\n",
        "# ]"
      ]
    },
    {
      "cell_type": "code",
      "execution_count": null,
      "id": "54fa3c2f",
      "metadata": {
        "execution": {
          "iopub.execute_input": "2023-01-22T12:39:34.918401Z",
          "iopub.status.busy": "2023-01-22T12:39:34.917604Z",
          "iopub.status.idle": "2023-01-22T12:39:34.923504Z",
          "shell.execute_reply": "2023-01-22T12:39:34.922682Z"
        },
        "papermill": {
          "duration": 0.028338,
          "end_time": "2023-01-22T12:39:34.925430",
          "exception": false,
          "start_time": "2023-01-22T12:39:34.897092",
          "status": "completed"
        },
        "tags": [],
        "id": "54fa3c2f"
      },
      "outputs": [],
      "source": [
        "reg_list=[\n",
        "    DecisionTreeRegressor(),\n",
        "    LinearRegression(n_jobs=-1),\n",
        "    RandomForestRegressor(n_estimators=200,n_jobs=-1),\n",
        "    AdaBoostRegressor(n_estimators=200,learning_rate=0.1),\n",
        "    XGBRegressor(n_estimators=200,learning_rate=0.1,n_jobs=-1),\n",
        "    LGBMRegressor(n_estimators=200,learning_rate=0.1,n_jobs=-1),\n",
        "    GradientBoostingRegressor(n_estimators=200,learning_rate=0.1),\n",
        "]"
      ]
    },
    {
      "cell_type": "code",
      "execution_count": null,
      "id": "1c0d28f0",
      "metadata": {
        "execution": {
          "iopub.execute_input": "2023-01-22T12:39:34.967909Z",
          "iopub.status.busy": "2023-01-22T12:39:34.967017Z",
          "iopub.status.idle": "2023-01-22T12:39:34.973145Z",
          "shell.execute_reply": "2023-01-22T12:39:34.972317Z"
        },
        "papermill": {
          "duration": 0.029268,
          "end_time": "2023-01-22T12:39:34.975116",
          "exception": false,
          "start_time": "2023-01-22T12:39:34.945848",
          "status": "completed"
        },
        "tags": [],
        "id": "1c0d28f0"
      },
      "outputs": [],
      "source": [
        "reg_list_copy=[\n",
        "    DecisionTreeRegressor(),\n",
        "    LinearRegression(n_jobs=1),\n",
        "    RandomForestRegressor(n_estimators=200,n_jobs=-1),\n",
        "    AdaBoostRegressor(n_estimators=200,learning_rate=0.1),\n",
        "    XGBRegressor(n_estimators=200,learning_rate=0.1,tree_method='gpu_hist',n_jobs=-1),\n",
        "    LGBMRegressor(n_estimators=200,learning_rate=0.1,device='gpu',n_jobs=-1),\n",
        "    GradientBoostingRegressor(n_estimators=200,learning_rate=0.1),\n",
        "]"
      ]
    },
    {
      "cell_type": "code",
      "execution_count": null,
      "id": "110be29d",
      "metadata": {
        "execution": {
          "iopub.execute_input": "2023-01-22T12:39:35.016947Z",
          "iopub.status.busy": "2023-01-22T12:39:35.016161Z",
          "iopub.status.idle": "2023-01-22T12:39:35.026345Z",
          "shell.execute_reply": "2023-01-22T12:39:35.025373Z"
        },
        "papermill": {
          "duration": 0.033416,
          "end_time": "2023-01-22T12:39:35.028495",
          "exception": false,
          "start_time": "2023-01-22T12:39:34.995079",
          "status": "completed"
        },
        "tags": [],
        "id": "110be29d",
        "outputId": "84f1ea77-a961-4efd-b67b-4e06bcac4534"
      },
      "outputs": [
        {
          "name": "stdout",
          "output_type": "stream",
          "text": [
            "--------------------------------------------------------------------------------\n",
            "DecisionTreeRegressor()\n",
            "DecisionTreeRegressor                              at index 0\n",
            "--------------------------------------------------------------------------------\n",
            "LinearRegression(n_jobs=-1)\n",
            "LinearRegression                                   at index 1\n",
            "--------------------------------------------------------------------------------\n",
            "RandomForestRegressor(n_estimators=200, n_jobs=-1)\n",
            "RandomForestRegressor                              at index 2\n",
            "--------------------------------------------------------------------------------\n",
            "AdaBoostRegressor(learning_rate=0.1, n_estimators=200)\n",
            "AdaBoostRegressor                                  at index 3\n",
            "--------------------------------------------------------------------------------\n",
            "XGBRegressor(base_score=None, booster=None, callbacks=None,\n",
            "             colsample_bylevel=None, colsample_bynode=None,\n",
            "             colsample_bytree=None, early_stopping_rounds=None,\n",
            "             enable_categorical=False, eval_metric=None, gamma=None,\n",
            "             gpu_id=None, grow_policy=None, importance_type=None,\n",
            "             interaction_constraints=None, learning_rate=0.1, max_bin=None,\n",
            "             max_cat_to_onehot=None, max_delta_step=None, max_depth=None,\n",
            "             max_leaves=None, min_child_weight=None, missing=nan,\n",
            "             monotone_constraints=None, n_estimators=200, n_jobs=-1,\n",
            "             num_parallel_tree=None, predictor=None, random_state=None,\n",
            "             reg_alpha=None, reg_lambda=None, ...)\n",
            "XGBRegressor                                       at index 4\n",
            "--------------------------------------------------------------------------------\n",
            "LGBMRegressor(n_estimators=200)\n",
            "LGBMRegressor                                      at index 5\n",
            "--------------------------------------------------------------------------------\n",
            "GradientBoostingRegressor(n_estimators=200)\n",
            "GradientBoostingRegressor                          at index 6\n",
            "--------------------------------------------------------------------------------\n"
          ]
        }
      ],
      "source": [
        "print_model_locations(reg_list)"
      ]
    },
    {
      "cell_type": "code",
      "execution_count": null,
      "id": "4b660ec6",
      "metadata": {
        "execution": {
          "iopub.execute_input": "2023-01-22T12:39:35.071602Z",
          "iopub.status.busy": "2023-01-22T12:39:35.071323Z",
          "iopub.status.idle": "2023-01-22T12:39:58.827758Z",
          "shell.execute_reply": "2023-01-22T12:39:58.826108Z"
        },
        "papermill": {
          "duration": 23.779918,
          "end_time": "2023-01-22T12:39:58.829901",
          "exception": false,
          "start_time": "2023-01-22T12:39:35.049983",
          "status": "completed"
        },
        "tags": [],
        "id": "4b660ec6",
        "outputId": "4dac1cc8-b96f-4839-bf14-7153726347db"
      },
      "outputs": [
        {
          "name": "stdout",
          "output_type": "stream",
          "text": [
            "--------------------------------------------------------------------------------\n",
            "Fitting DecisionTreeRegressor done\n",
            "--------------------------------------------------------------------------------\n",
            "Fitting LinearRegression done\n",
            "--------------------------------------------------------------------------------\n",
            "Fitting RandomForestRegressor done\n",
            "--------------------------------------------------------------------------------\n",
            "Fitting AdaBoostRegressor done\n",
            "--------------------------------------------------------------------------------\n",
            "Fitting XGBRegressor done\n",
            "--------------------------------------------------------------------------------\n",
            "Fitting LGBMRegressor done\n",
            "--------------------------------------------------------------------------------\n",
            "Fitting GradientBoostingRegressor done\n",
            "--------------------------------------------------------------------------------\n",
            "CPU times: user 35.6 s, sys: 531 ms, total: 36.2 s\n",
            "Wall time: 23.8 s\n"
          ]
        }
      ],
      "source": [
        "%%time\n",
        "model_fitter(reg_list)"
      ]
    },
    {
      "cell_type": "markdown",
      "id": "2da29241",
      "metadata": {
        "papermill": {
          "duration": 0.023566,
          "end_time": "2023-01-22T12:39:58.875326",
          "exception": false,
          "start_time": "2023-01-22T12:39:58.851760",
          "status": "completed"
        },
        "tags": [],
        "id": "2da29241"
      },
      "source": [
        "# Testing"
      ]
    },
    {
      "cell_type": "code",
      "execution_count": null,
      "id": "1a64cad0",
      "metadata": {
        "execution": {
          "iopub.execute_input": "2023-01-22T12:39:58.925701Z",
          "iopub.status.busy": "2023-01-22T12:39:58.924501Z",
          "iopub.status.idle": "2023-01-22T12:39:58.933384Z",
          "shell.execute_reply": "2023-01-22T12:39:58.932307Z"
        },
        "papermill": {
          "duration": 0.036552,
          "end_time": "2023-01-22T12:39:58.935713",
          "exception": false,
          "start_time": "2023-01-22T12:39:58.899161",
          "status": "completed"
        },
        "tags": [],
        "id": "1a64cad0"
      },
      "outputs": [],
      "source": [
        "def tester_func(model_list):\n",
        "    for i,reg in enumerate(model_list):\n",
        "        \n",
        "        reg_name = reg.__class__.__name__\n",
        "        pred=None\n",
        "        \n",
        "        try:\n",
        "            pred=reg.predict(X_test)\n",
        "        except NotFittedError as e:\n",
        "            raise(e)\n",
        "            \n",
        "        print(\"-\"*80)\n",
        "        print(f\"Predicitng {reg_name:40} done\")\n",
        "\n",
        "        score_dict[reg_name]={\n",
        "            \"R2 Score\":r2_score(y_test,pred),\n",
        "            \"Root Mean Squared Error\": mean_squared_error(y_test,pred, squared=False),\n",
        "            \"Mean Absolute Error Score\":mean_absolute_error(y_test,pred),\n",
        "            \"Mean Squared Error Score\":mean_squared_error(y_test,pred),\n",
        "            'model_index':int(i)\n",
        "        }\n",
        "        j=i\n",
        "    \n",
        "    print(\"-\"*80)\n",
        "    \n",
        "    return j"
      ]
    },
    {
      "cell_type": "code",
      "execution_count": null,
      "id": "bb7ec3f0",
      "metadata": {
        "execution": {
          "iopub.execute_input": "2023-01-22T12:39:58.984161Z",
          "iopub.status.busy": "2023-01-22T12:39:58.983835Z",
          "iopub.status.idle": "2023-01-22T12:39:58.988889Z",
          "shell.execute_reply": "2023-01-22T12:39:58.987682Z"
        },
        "papermill": {
          "duration": 0.031986,
          "end_time": "2023-01-22T12:39:58.991144",
          "exception": false,
          "start_time": "2023-01-22T12:39:58.959158",
          "status": "completed"
        },
        "tags": [],
        "id": "bb7ec3f0"
      },
      "outputs": [],
      "source": [
        "score_dict={};j=0"
      ]
    },
    {
      "cell_type": "code",
      "execution_count": null,
      "id": "a4facad7",
      "metadata": {
        "execution": {
          "iopub.execute_input": "2023-01-22T12:39:59.039827Z",
          "iopub.status.busy": "2023-01-22T12:39:59.038862Z",
          "iopub.status.idle": "2023-01-22T12:39:59.672219Z",
          "shell.execute_reply": "2023-01-22T12:39:59.669852Z"
        },
        "papermill": {
          "duration": 0.659972,
          "end_time": "2023-01-22T12:39:59.674394",
          "exception": false,
          "start_time": "2023-01-22T12:39:59.014422",
          "status": "completed"
        },
        "tags": [],
        "id": "a4facad7",
        "outputId": "aecc0bc4-d51c-4c3f-8e3d-a91a69babf27"
      },
      "outputs": [
        {
          "name": "stdout",
          "output_type": "stream",
          "text": [
            "--------------------------------------------------------------------------------\n",
            "Predicitng DecisionTreeRegressor                    done\n",
            "--------------------------------------------------------------------------------\n",
            "Predicitng LinearRegression                         done\n",
            "--------------------------------------------------------------------------------\n",
            "Predicitng RandomForestRegressor                    done\n",
            "--------------------------------------------------------------------------------\n",
            "Predicitng AdaBoostRegressor                        done\n",
            "--------------------------------------------------------------------------------\n",
            "Predicitng XGBRegressor                             done\n",
            "--------------------------------------------------------------------------------\n",
            "Predicitng LGBMRegressor                            done\n",
            "--------------------------------------------------------------------------------\n",
            "Predicitng GradientBoostingRegressor                done\n",
            "--------------------------------------------------------------------------------\n"
          ]
        }
      ],
      "source": [
        "j_copy=tester_func(reg_list)"
      ]
    },
    {
      "cell_type": "code",
      "execution_count": null,
      "id": "ad65773f",
      "metadata": {
        "execution": {
          "iopub.execute_input": "2023-01-22T12:39:59.717911Z",
          "iopub.status.busy": "2023-01-22T12:39:59.716496Z",
          "iopub.status.idle": "2023-01-22T12:39:59.723327Z",
          "shell.execute_reply": "2023-01-22T12:39:59.722387Z"
        },
        "papermill": {
          "duration": 0.030021,
          "end_time": "2023-01-22T12:39:59.725218",
          "exception": false,
          "start_time": "2023-01-22T12:39:59.695197",
          "status": "completed"
        },
        "tags": [],
        "id": "ad65773f",
        "outputId": "0441f95d-1da1-4c3b-fd86-2b85f88d3f66"
      },
      "outputs": [
        {
          "data": {
            "text/plain": [
              "6"
            ]
          },
          "execution_count": 50,
          "metadata": {},
          "output_type": "execute_result"
        }
      ],
      "source": [
        "j_copy"
      ]
    },
    {
      "cell_type": "code",
      "execution_count": null,
      "id": "4d6adf04",
      "metadata": {
        "execution": {
          "iopub.execute_input": "2023-01-22T12:39:59.767011Z",
          "iopub.status.busy": "2023-01-22T12:39:59.766356Z",
          "iopub.status.idle": "2023-01-22T12:39:59.783014Z",
          "shell.execute_reply": "2023-01-22T12:39:59.782008Z"
        },
        "papermill": {
          "duration": 0.039753,
          "end_time": "2023-01-22T12:39:59.785030",
          "exception": false,
          "start_time": "2023-01-22T12:39:59.745277",
          "status": "completed"
        },
        "tags": [],
        "id": "4d6adf04",
        "outputId": "832cdb8e-57c0-420f-f45b-bebee8345832"
      },
      "outputs": [
        {
          "data": {
            "text/html": [
              "<div>\n",
              "<style scoped>\n",
              "    .dataframe tbody tr th:only-of-type {\n",
              "        vertical-align: middle;\n",
              "    }\n",
              "\n",
              "    .dataframe tbody tr th {\n",
              "        vertical-align: top;\n",
              "    }\n",
              "\n",
              "    .dataframe thead th {\n",
              "        text-align: right;\n",
              "    }\n",
              "</style>\n",
              "<table border=\"1\" class=\"dataframe\">\n",
              "  <thead>\n",
              "    <tr style=\"text-align: right;\">\n",
              "      <th></th>\n",
              "      <th>R2 Score</th>\n",
              "      <th>Root Mean Squared Error</th>\n",
              "      <th>Mean Absolute Error Score</th>\n",
              "      <th>Mean Squared Error Score</th>\n",
              "      <th>model_index</th>\n",
              "    </tr>\n",
              "  </thead>\n",
              "  <tbody>\n",
              "    <tr>\n",
              "      <th>XGBRegressor</th>\n",
              "      <td>0.781109</td>\n",
              "      <td>335.527016</td>\n",
              "      <td>34.063330</td>\n",
              "      <td>112578.378167</td>\n",
              "      <td>4.0</td>\n",
              "    </tr>\n",
              "    <tr>\n",
              "      <th>GradientBoostingRegressor</th>\n",
              "      <td>0.776470</td>\n",
              "      <td>339.063430</td>\n",
              "      <td>45.060518</td>\n",
              "      <td>114964.009357</td>\n",
              "      <td>6.0</td>\n",
              "    </tr>\n",
              "    <tr>\n",
              "      <th>DecisionTreeRegressor</th>\n",
              "      <td>0.758827</td>\n",
              "      <td>352.190221</td>\n",
              "      <td>36.532604</td>\n",
              "      <td>124037.952099</td>\n",
              "      <td>0.0</td>\n",
              "    </tr>\n",
              "    <tr>\n",
              "      <th>RandomForestRegressor</th>\n",
              "      <td>0.735729</td>\n",
              "      <td>368.669782</td>\n",
              "      <td>33.282237</td>\n",
              "      <td>135917.408428</td>\n",
              "      <td>2.0</td>\n",
              "    </tr>\n",
              "    <tr>\n",
              "      <th>AdaBoostRegressor</th>\n",
              "      <td>0.726383</td>\n",
              "      <td>375.132448</td>\n",
              "      <td>129.940487</td>\n",
              "      <td>140724.353478</td>\n",
              "      <td>3.0</td>\n",
              "    </tr>\n",
              "    <tr>\n",
              "      <th>LGBMRegressor</th>\n",
              "      <td>0.650705</td>\n",
              "      <td>423.847310</td>\n",
              "      <td>42.942769</td>\n",
              "      <td>179646.542486</td>\n",
              "      <td>5.0</td>\n",
              "    </tr>\n",
              "    <tr>\n",
              "      <th>LinearRegression</th>\n",
              "      <td>0.425326</td>\n",
              "      <td>543.655410</td>\n",
              "      <td>130.786050</td>\n",
              "      <td>295561.205171</td>\n",
              "      <td>1.0</td>\n",
              "    </tr>\n",
              "  </tbody>\n",
              "</table>\n",
              "</div>"
            ],
            "text/plain": [
              "                           R2 Score  Root Mean Squared Error  \\\n",
              "XGBRegressor               0.781109               335.527016   \n",
              "GradientBoostingRegressor  0.776470               339.063430   \n",
              "DecisionTreeRegressor      0.758827               352.190221   \n",
              "RandomForestRegressor      0.735729               368.669782   \n",
              "AdaBoostRegressor          0.726383               375.132448   \n",
              "LGBMRegressor              0.650705               423.847310   \n",
              "LinearRegression           0.425326               543.655410   \n",
              "\n",
              "                           Mean Absolute Error Score  \\\n",
              "XGBRegressor                               34.063330   \n",
              "GradientBoostingRegressor                  45.060518   \n",
              "DecisionTreeRegressor                      36.532604   \n",
              "RandomForestRegressor                      33.282237   \n",
              "AdaBoostRegressor                         129.940487   \n",
              "LGBMRegressor                              42.942769   \n",
              "LinearRegression                          130.786050   \n",
              "\n",
              "                           Mean Squared Error Score  model_index  \n",
              "XGBRegressor                          112578.378167          4.0  \n",
              "GradientBoostingRegressor             114964.009357          6.0  \n",
              "DecisionTreeRegressor                 124037.952099          0.0  \n",
              "RandomForestRegressor                 135917.408428          2.0  \n",
              "AdaBoostRegressor                     140724.353478          3.0  \n",
              "LGBMRegressor                         179646.542486          5.0  \n",
              "LinearRegression                      295561.205171          1.0  "
            ]
          },
          "execution_count": 51,
          "metadata": {},
          "output_type": "execute_result"
        }
      ],
      "source": [
        "score_pd=pd.DataFrame(score_dict).transpose().sort_values('Root Mean Squared Error')\n",
        "score_pd"
      ]
    },
    {
      "cell_type": "code",
      "execution_count": null,
      "id": "2af6074d",
      "metadata": {
        "execution": {
          "iopub.execute_input": "2023-01-22T12:39:59.826864Z",
          "iopub.status.busy": "2023-01-22T12:39:59.826560Z",
          "iopub.status.idle": "2023-01-22T12:40:00.586389Z",
          "shell.execute_reply": "2023-01-22T12:40:00.585386Z"
        },
        "papermill": {
          "duration": 0.783781,
          "end_time": "2023-01-22T12:40:00.589184",
          "exception": false,
          "start_time": "2023-01-22T12:39:59.805403",
          "status": "completed"
        },
        "tags": [],
        "id": "2af6074d",
        "outputId": "4a09088c-f831-4397-baeb-d8eb5baa91e3"
      },
      "outputs": [
        {
          "data": {
            "image/png": "[encoded data removed]",
            "text/plain": [
              "<Figure size 1296x864 with 3 Axes>"
            ]
          },
          "metadata": {
            "needs_background": "light"
          },
          "output_type": "display_data"
        }
      ],
      "source": [
        "fig,ax=plt.subplots(3,1,figsize=(18,12))\n",
        "sns.lineplot(data=score_pd.iloc[:,[1,2]],markers=True,ax=ax[1])\n",
        "sns.lineplot(data=score_pd.iloc[:,[0]],markers=True,ax=ax[0])\n",
        "sns.lineplot(data=score_pd.iloc[:,[3]],markers=True,ax=ax[2])\n",
        "plt.tight_layout()\n",
        "plt.show()"
      ]
    },
    {
      "cell_type": "markdown",
      "id": "00659bbb",
      "metadata": {
        "papermill": {
          "duration": 0.021693,
          "end_time": "2023-01-22T12:40:00.633463",
          "exception": false,
          "start_time": "2023-01-22T12:40:00.611770",
          "status": "completed"
        },
        "tags": [],
        "id": "00659bbb"
      },
      "source": [
        "# Best Model Plot"
      ]
    },
    {
      "cell_type": "code",
      "execution_count": null,
      "id": "77727c13",
      "metadata": {
        "execution": {
          "iopub.execute_input": "2023-01-22T12:40:00.677702Z",
          "iopub.status.busy": "2023-01-22T12:40:00.677339Z",
          "iopub.status.idle": "2023-01-22T12:40:00.688558Z",
          "shell.execute_reply": "2023-01-22T12:40:00.687516Z"
        },
        "papermill": {
          "duration": 0.035938,
          "end_time": "2023-01-22T12:40:00.690793",
          "exception": false,
          "start_time": "2023-01-22T12:40:00.654855",
          "status": "completed"
        },
        "tags": [],
        "id": "77727c13",
        "outputId": "818886e2-8bfc-4487-a5ac-22a432072a20"
      },
      "outputs": [
        {
          "data": {
            "text/html": [
              "<div>\n",
              "<style scoped>\n",
              "    .dataframe tbody tr th:only-of-type {\n",
              "        vertical-align: middle;\n",
              "    }\n",
              "\n",
              "    .dataframe tbody tr th {\n",
              "        vertical-align: top;\n",
              "    }\n",
              "\n",
              "    .dataframe thead th {\n",
              "        text-align: right;\n",
              "    }\n",
              "</style>\n",
              "<table border=\"1\" class=\"dataframe\">\n",
              "  <thead>\n",
              "    <tr style=\"text-align: right;\">\n",
              "      <th></th>\n",
              "      <th>R2 Score</th>\n",
              "      <th>Root Mean Squared Error</th>\n",
              "      <th>Mean Absolute Error Score</th>\n",
              "      <th>Mean Squared Error Score</th>\n",
              "      <th>model_index</th>\n",
              "    </tr>\n",
              "  </thead>\n",
              "  <tbody>\n",
              "    <tr>\n",
              "      <th>XGBRegressor</th>\n",
              "      <td>0.781109</td>\n",
              "      <td>335.527016</td>\n",
              "      <td>34.06333</td>\n",
              "      <td>112578.378167</td>\n",
              "      <td>4.0</td>\n",
              "    </tr>\n",
              "  </tbody>\n",
              "</table>\n",
              "</div>"
            ],
            "text/plain": [
              "              R2 Score  Root Mean Squared Error  Mean Absolute Error Score  \\\n",
              "XGBRegressor  0.781109               335.527016                   34.06333   \n",
              "\n",
              "              Mean Squared Error Score  model_index  \n",
              "XGBRegressor             112578.378167          4.0  "
            ]
          },
          "execution_count": 53,
          "metadata": {},
          "output_type": "execute_result"
        }
      ],
      "source": [
        "score_pd.iloc[[0],:]"
      ]
    },
    {
      "cell_type": "code",
      "execution_count": null,
      "id": "2d4910c3",
      "metadata": {
        "execution": {
          "iopub.execute_input": "2023-01-22T12:40:00.736105Z",
          "iopub.status.busy": "2023-01-22T12:40:00.735301Z",
          "iopub.status.idle": "2023-01-22T12:40:00.741716Z",
          "shell.execute_reply": "2023-01-22T12:40:00.740775Z"
        },
        "papermill": {
          "duration": 0.03125,
          "end_time": "2023-01-22T12:40:00.743754",
          "exception": false,
          "start_time": "2023-01-22T12:40:00.712504",
          "status": "completed"
        },
        "tags": [],
        "id": "2d4910c3",
        "outputId": "f1fb3ff5-0100-4150-b129-0b7e3fabaef7"
      },
      "outputs": [
        {
          "data": {
            "text/plain": [
              "4"
            ]
          },
          "execution_count": 54,
          "metadata": {},
          "output_type": "execute_result"
        }
      ],
      "source": [
        "win_index=int(score_pd.iloc[0,-1])\n",
        "win_index"
      ]
    },
    {
      "cell_type": "code",
      "execution_count": null,
      "id": "c5b949c7",
      "metadata": {
        "execution": {
          "iopub.execute_input": "2023-01-22T12:40:00.787999Z",
          "iopub.status.busy": "2023-01-22T12:40:00.787734Z",
          "iopub.status.idle": "2023-01-22T12:40:01.896476Z",
          "shell.execute_reply": "2023-01-22T12:40:01.895550Z"
        },
        "papermill": {
          "duration": 1.133395,
          "end_time": "2023-01-22T12:40:01.898635",
          "exception": false,
          "start_time": "2023-01-22T12:40:00.765240",
          "status": "completed"
        },
        "tags": [],
        "id": "c5b949c7",
        "outputId": "546811fd-162a-4981-8fc1-7d912ce1f7d3"
      },
      "outputs": [
        {
          "data": {
            "image/png": "[encoded data removed]",
            "text/plain": [
              "<Figure size 1728x720 with 2 Axes>"
            ]
          },
          "metadata": {
            "needs_background": "light"
          },
          "output_type": "display_data"
        }
      ],
      "source": [
        "pred=reg_list[win_index].predict(X_test)\n",
        "diff=pred-y_test.values.ravel()\n",
        "\n",
        "fig,ax=plt.subplots(2,1,figsize=(24,10))\n",
        "sns.lineplot(y=y_test.values.ravel(),x=y_test.index,legend=False,ax=ax[0])\n",
        "sns.lineplot(y=pred,x=y_test.index,legend=False,ax=ax[0])\n",
        "sns.lineplot(y=diff,x=y_test.index,legend=\"full\",ax=ax[1])\n",
        "ax[0].set_title('Original Price vs Prediction ')\n",
        "ax[0].legend(['Original','Prediction'])\n",
        "ax[1].set_title('Diff in Values')\n",
        "plt.tight_layout()\n",
        "plt.show()"
      ]
    },
    {
      "cell_type": "markdown",
      "id": "63a52592",
      "metadata": {
        "papermill": {
          "duration": 0.022089,
          "end_time": "2023-01-22T12:40:01.943960",
          "exception": false,
          "start_time": "2023-01-22T12:40:01.921871",
          "status": "completed"
        },
        "tags": [],
        "id": "63a52592"
      },
      "source": [
        "# Hyper parameter tuning"
      ]
    },
    {
      "cell_type": "code",
      "execution_count": null,
      "id": "103b38ab",
      "metadata": {
        "execution": {
          "iopub.execute_input": "2023-01-22T12:40:01.990474Z",
          "iopub.status.busy": "2023-01-22T12:40:01.990149Z",
          "iopub.status.idle": "2023-01-22T12:40:01.997502Z",
          "shell.execute_reply": "2023-01-22T12:40:01.996601Z"
        },
        "papermill": {
          "duration": 0.032962,
          "end_time": "2023-01-22T12:40:01.999563",
          "exception": false,
          "start_time": "2023-01-22T12:40:01.966601",
          "status": "completed"
        },
        "tags": [],
        "id": "103b38ab",
        "outputId": "31963d01-a35b-4266-ed89-d5a5912065f4"
      },
      "outputs": [
        {
          "data": {
            "text/plain": [
              "{'objective': 'reg:squarederror',\n",
              " 'base_score': None,\n",
              " 'booster': None,\n",
              " 'callbacks': None,\n",
              " 'colsample_bylevel': None,\n",
              " 'colsample_bynode': None,\n",
              " 'colsample_bytree': None,\n",
              " 'early_stopping_rounds': None,\n",
              " 'enable_categorical': False,\n",
              " 'eval_metric': None,\n",
              " 'gamma': None,\n",
              " 'gpu_id': None,\n",
              " 'grow_policy': None,\n",
              " 'importance_type': None,\n",
              " 'interaction_constraints': None,\n",
              " 'learning_rate': 0.1,\n",
              " 'max_bin': None,\n",
              " 'max_cat_to_onehot': None,\n",
              " 'max_delta_step': None,\n",
              " 'max_depth': None,\n",
              " 'max_leaves': None,\n",
              " 'min_child_weight': None,\n",
              " 'missing': nan,\n",
              " 'monotone_constraints': None,\n",
              " 'n_estimators': 200,\n",
              " 'n_jobs': -1,\n",
              " 'num_parallel_tree': None,\n",
              " 'predictor': None,\n",
              " 'random_state': None,\n",
              " 'reg_alpha': None,\n",
              " 'reg_lambda': None,\n",
              " 'sampling_method': None,\n",
              " 'scale_pos_weight': None,\n",
              " 'subsample': None,\n",
              " 'tree_method': 'gpu_hist',\n",
              " 'validate_parameters': None,\n",
              " 'verbosity': None}"
            ]
          },
          "execution_count": 56,
          "metadata": {},
          "output_type": "execute_result"
        }
      ],
      "source": [
        "reg_list_copy[win_index].get_params()"
      ]
    },
    {
      "cell_type": "code",
      "execution_count": null,
      "id": "a6465c47",
      "metadata": {
        "execution": {
          "iopub.execute_input": "2023-01-22T12:40:02.046240Z",
          "iopub.status.busy": "2023-01-22T12:40:02.045381Z",
          "iopub.status.idle": "2023-01-22T12:40:02.052862Z",
          "shell.execute_reply": "2023-01-22T12:40:02.051803Z"
        },
        "papermill": {
          "duration": 0.033034,
          "end_time": "2023-01-22T12:40:02.054880",
          "exception": false,
          "start_time": "2023-01-22T12:40:02.021846",
          "status": "completed"
        },
        "tags": [],
        "id": "a6465c47",
        "outputId": "a6b4b1e7-2483-4cd0-cd62-8dab854f7ec7"
      },
      "outputs": [
        {
          "data": {
            "text/plain": [
              "{'n_estimators': array([100, 200, 300, 400, 500]),\n",
              " 'learning_rate': array([0.1, 0.2, 0.3, 0.4, 0.5, 0.6, 0.7, 0.8, 0.9, 1. ])}"
            ]
          },
          "execution_count": 57,
          "metadata": {},
          "output_type": "execute_result"
        }
      ],
      "source": [
        "params=dict(n_estimators=np.arange(100,501,100),learning_rate=np.arange(0.1,1.1,0.1))\n",
        "# params=dict(n_estimators=np.arange(100,1101,200),learning_rate=np.arange(0.001,0.2,0.01))\n",
        "\n",
        "params"
      ]
    },
    {
      "cell_type": "code",
      "execution_count": null,
      "id": "783a234c",
      "metadata": {
        "execution": {
          "iopub.execute_input": "2023-01-22T12:40:02.102769Z",
          "iopub.status.busy": "2023-01-22T12:40:02.101880Z",
          "iopub.status.idle": "2023-01-22T12:40:02.113879Z",
          "shell.execute_reply": "2023-01-22T12:40:02.112893Z"
        },
        "papermill": {
          "duration": 0.037553,
          "end_time": "2023-01-22T12:40:02.115992",
          "exception": false,
          "start_time": "2023-01-22T12:40:02.078439",
          "status": "completed"
        },
        "tags": [],
        "id": "783a234c",
        "outputId": "8ed3c55b-4828-482a-de4e-c192b4e2472e"
      },
      "outputs": [
        {
          "data": {
            "text/plain": [
              "GridSearchCV(cv=3,\n",
              "             estimator=XGBRegressor(base_score=None, booster=None,\n",
              "                                    callbacks=None, colsample_bylevel=None,\n",
              "                                    colsample_bynode=None,\n",
              "                                    colsample_bytree=None,\n",
              "                                    early_stopping_rounds=None,\n",
              "                                    enable_categorical=False, eval_metric=None,\n",
              "                                    gamma=None, gpu_id=None, grow_policy=None,\n",
              "                                    importance_type=None,\n",
              "                                    interaction_constraints=None,\n",
              "                                    learning_rate=0.1, max_bin=None,\n",
              "                                    max_cat_...\n",
              "                                    max_depth=None, max_leaves=None,\n",
              "                                    min_child_weight=None, missing=nan,\n",
              "                                    monotone_constraints=None, n_estimators=200,\n",
              "                                    n_jobs=-1, num_parallel_tree=None,\n",
              "                                    predictor=None, random_state=None,\n",
              "                                    reg_alpha=None, reg_lambda=None, ...),\n",
              "             n_jobs=-1,\n",
              "             param_grid={'learning_rate': array([0.1, 0.2, 0.3, 0.4, 0.5, 0.6, 0.7, 0.8, 0.9, 1. ]),\n",
              "                         'n_estimators': array([100, 200, 300, 400, 500])},\n",
              "             verbose=3)"
            ]
          },
          "execution_count": 58,
          "metadata": {},
          "output_type": "execute_result"
        }
      ],
      "source": [
        "gs=GridSearchCV(estimator=reg_list_copy[win_index],param_grid=params,verbose=3,cv=3,n_jobs=-1)\n",
        "gs"
      ]
    },
    {
      "cell_type": "code",
      "execution_count": null,
      "id": "0e214c2d",
      "metadata": {
        "execution": {
          "iopub.execute_input": "2023-01-22T12:40:02.164010Z",
          "iopub.status.busy": "2023-01-22T12:40:02.163365Z",
          "iopub.status.idle": "2023-01-22T12:40:02.168173Z",
          "shell.execute_reply": "2023-01-22T12:40:02.167300Z"
        },
        "papermill": {
          "duration": 0.030415,
          "end_time": "2023-01-22T12:40:02.170216",
          "exception": false,
          "start_time": "2023-01-22T12:40:02.139801",
          "status": "completed"
        },
        "tags": [],
        "id": "0e214c2d"
      },
      "outputs": [],
      "source": [
        "reg_list.append(gs)"
      ]
    },
    {
      "cell_type": "code",
      "execution_count": null,
      "id": "92d3a8f8",
      "metadata": {
        "execution": {
          "iopub.execute_input": "2023-01-22T12:40:02.217269Z",
          "iopub.status.busy": "2023-01-22T12:40:02.216942Z",
          "iopub.status.idle": "2023-01-22T12:40:02.230247Z",
          "shell.execute_reply": "2023-01-22T12:40:02.229272Z"
        },
        "papermill": {
          "duration": 0.040175,
          "end_time": "2023-01-22T12:40:02.233550",
          "exception": false,
          "start_time": "2023-01-22T12:40:02.193375",
          "status": "completed"
        },
        "tags": [],
        "id": "92d3a8f8",
        "outputId": "fd4c36d2-4187-40bf-a72e-7674278e439f"
      },
      "outputs": [
        {
          "name": "stdout",
          "output_type": "stream",
          "text": [
            "--------------------------------------------------------------------------------\n",
            "DecisionTreeRegressor()\n",
            "DecisionTreeRegressor                              at index 0\n",
            "--------------------------------------------------------------------------------\n",
            "LinearRegression(n_jobs=-1)\n",
            "LinearRegression                                   at index 1\n",
            "--------------------------------------------------------------------------------\n",
            "RandomForestRegressor(n_estimators=200, n_jobs=-1)\n",
            "RandomForestRegressor                              at index 2\n",
            "--------------------------------------------------------------------------------\n",
            "AdaBoostRegressor(learning_rate=0.1, n_estimators=200)\n",
            "AdaBoostRegressor                                  at index 3\n",
            "--------------------------------------------------------------------------------\n",
            "XGBRegressor(base_score=0.5, booster='gbtree', callbacks=None,\n",
            "             colsample_bylevel=1, colsample_bynode=1, colsample_bytree=1,\n",
            "             early_stopping_rounds=None, enable_categorical=False,\n",
            "             eval_metric=None, gamma=0, gpu_id=-1, grow_policy='depthwise',\n",
            "             importance_type=None, interaction_constraints='',\n",
            "             learning_rate=0.1, max_bin=256, max_cat_to_onehot=4,\n",
            "             max_delta_step=0, max_depth=6, max_leaves=0, min_child_weight=1,\n",
            "             missing=nan, monotone_constraints='()', n_estimators=200,\n",
            "             n_jobs=-1, num_parallel_tree=1, predictor='auto', random_state=0,\n",
            "             reg_alpha=0, reg_lambda=1, ...)\n",
            "XGBRegressor                                       at index 4\n",
            "--------------------------------------------------------------------------------\n",
            "LGBMRegressor(n_estimators=200)\n",
            "LGBMRegressor                                      at index 5\n",
            "--------------------------------------------------------------------------------\n",
            "GradientBoostingRegressor(n_estimators=200)\n",
            "GradientBoostingRegressor                          at index 6\n",
            "--------------------------------------------------------------------------------\n",
            "GridSearchCV(cv=3,\n",
            "             estimator=XGBRegressor(base_score=None, booster=None,\n",
            "                                    callbacks=None, colsample_bylevel=None,\n",
            "                                    colsample_bynode=None,\n",
            "                                    colsample_bytree=None,\n",
            "                                    early_stopping_rounds=None,\n",
            "                                    enable_categorical=False, eval_metric=None,\n",
            "                                    gamma=None, gpu_id=None, grow_policy=None,\n",
            "                                    importance_type=None,\n",
            "                                    interaction_constraints=None,\n",
            "                                    learning_rate=0.1, max_bin=None,\n",
            "                                    max_cat_...\n",
            "                                    max_depth=None, max_leaves=None,\n",
            "                                    min_child_weight=None, missing=nan,\n",
            "                                    monotone_constraints=None, n_estimators=200,\n",
            "                                    n_jobs=-1, num_parallel_tree=None,\n",
            "                                    predictor=None, random_state=None,\n",
            "                                    reg_alpha=None, reg_lambda=None, ...),\n",
            "             n_jobs=-1,\n",
            "             param_grid={'learning_rate': array([0.1, 0.2, 0.3, 0.4, 0.5, 0.6, 0.7, 0.8, 0.9, 1. ]),\n",
            "                         'n_estimators': array([100, 200, 300, 400, 500])},\n",
            "             verbose=3)\n",
            "GridSearchCV                                       at index 7\n",
            "--------------------------------------------------------------------------------\n"
          ]
        }
      ],
      "source": [
        "print_model_locations(reg_list)"
      ]
    },
    {
      "cell_type": "code",
      "execution_count": null,
      "id": "321e3127",
      "metadata": {
        "execution": {
          "iopub.execute_input": "2023-01-22T12:40:02.281627Z",
          "iopub.status.busy": "2023-01-22T12:40:02.281343Z",
          "iopub.status.idle": "2023-01-22T12:43:56.698003Z",
          "shell.execute_reply": "2023-01-22T12:43:56.696716Z"
        },
        "papermill": {
          "duration": 234.463878,
          "end_time": "2023-01-22T12:43:56.721381",
          "exception": false,
          "start_time": "2023-01-22T12:40:02.257503",
          "status": "completed"
        },
        "tags": [],
        "id": "321e3127",
        "outputId": "c492d7e1-038c-43d3-e9cf-fb0fd1f772f1"
      },
      "outputs": [
        {
          "name": "stdout",
          "output_type": "stream",
          "text": [
            "Fitting 3 folds for each of 50 candidates, totalling 150 fits\n",
            "[CV 1/3] END learning_rate=0.1, n_estimators=100;, score=0.931 total time=   2.9s\n",
            "[CV 2/3] END learning_rate=0.1, n_estimators=100;, score=0.729 total time=   2.9s\n",
            "CPU times: user 1.36 s, sys: 292 ms, total: 1.65 s\n",
            "Wall time: 3min 54s\n"
          ]
        },
        {
          "data": {
            "text/plain": [
              "GridSearchCV(cv=3,\n",
              "             estimator=XGBRegressor(base_score=None, booster=None,\n",
              "                                    callbacks=None, colsample_bylevel=None,\n",
              "                                    colsample_bynode=None,\n",
              "                                    colsample_bytree=None,\n",
              "                                    early_stopping_rounds=None,\n",
              "                                    enable_categorical=False, eval_metric=None,\n",
              "                                    gamma=None, gpu_id=None, grow_policy=None,\n",
              "                                    importance_type=None,\n",
              "                                    interaction_constraints=None,\n",
              "                                    learning_rate=0.1, max_bin=None,\n",
              "                                    max_cat_...\n",
              "                                    max_depth=None, max_leaves=None,\n",
              "                                    min_child_weight=None, missing=nan,\n",
              "                                    monotone_constraints=None, n_estimators=200,\n",
              "                                    n_jobs=-1, num_parallel_tree=None,\n",
              "                                    predictor=None, random_state=None,\n",
              "                                    reg_alpha=None, reg_lambda=None, ...),\n",
              "             n_jobs=-1,\n",
              "             param_grid={'learning_rate': array([0.1, 0.2, 0.3, 0.4, 0.5, 0.6, 0.7, 0.8, 0.9, 1. ]),\n",
              "                         'n_estimators': array([100, 200, 300, 400, 500])},\n",
              "             verbose=3)"
            ]
          },
          "execution_count": 61,
          "metadata": {},
          "output_type": "execute_result"
        }
      ],
      "source": [
        "%%time\n",
        "gs.fit(X_train,y_train.values.ravel())"
      ]
    },
    {
      "cell_type": "code",
      "execution_count": null,
      "id": "94da4ae0",
      "metadata": {
        "execution": {
          "iopub.execute_input": "2023-01-22T12:43:56.770247Z",
          "iopub.status.busy": "2023-01-22T12:43:56.769933Z",
          "iopub.status.idle": "2023-01-22T12:43:56.776442Z",
          "shell.execute_reply": "2023-01-22T12:43:56.775436Z"
        },
        "papermill": {
          "duration": 0.032661,
          "end_time": "2023-01-22T12:43:56.778291",
          "exception": false,
          "start_time": "2023-01-22T12:43:56.745630",
          "status": "completed"
        },
        "tags": [],
        "id": "94da4ae0",
        "outputId": "656d876f-f649-4429-a956-9d3c42ac8db6"
      },
      "outputs": [
        {
          "data": {
            "text/plain": [
              "{'learning_rate': 0.5, 'n_estimators': 100}"
            ]
          },
          "execution_count": 62,
          "metadata": {},
          "output_type": "execute_result"
        }
      ],
      "source": [
        "gs.best_params_"
      ]
    },
    {
      "cell_type": "code",
      "execution_count": null,
      "id": "eaf0ead0",
      "metadata": {
        "execution": {
          "iopub.execute_input": "2023-01-22T12:43:56.826404Z",
          "iopub.status.busy": "2023-01-22T12:43:56.825778Z",
          "iopub.status.idle": "2023-01-22T12:43:57.651204Z",
          "shell.execute_reply": "2023-01-22T12:43:57.649500Z"
        },
        "papermill": {
          "duration": 0.851688,
          "end_time": "2023-01-22T12:43:57.653284",
          "exception": false,
          "start_time": "2023-01-22T12:43:56.801596",
          "status": "completed"
        },
        "tags": [],
        "id": "eaf0ead0",
        "outputId": "91dbf7aa-8115-4aa9-fa44-19469536caf4"
      },
      "outputs": [
        {
          "name": "stdout",
          "output_type": "stream",
          "text": [
            "--------------------------------------------------------------------------------\n",
            "Predicitng DecisionTreeRegressor                    done\n",
            "--------------------------------------------------------------------------------\n",
            "Predicitng LinearRegression                         done\n",
            "--------------------------------------------------------------------------------\n",
            "Predicitng RandomForestRegressor                    done\n",
            "--------------------------------------------------------------------------------\n",
            "Predicitng AdaBoostRegressor                        done\n",
            "--------------------------------------------------------------------------------\n",
            "Predicitng XGBRegressor                             done\n",
            "--------------------------------------------------------------------------------\n",
            "Predicitng LGBMRegressor                            done\n",
            "--------------------------------------------------------------------------------\n",
            "Predicitng GradientBoostingRegressor                done\n",
            "--------------------------------------------------------------------------------\n",
            "Predicitng GridSearchCV                             done\n",
            "--------------------------------------------------------------------------------\n"
          ]
        },
        {
          "data": {
            "text/plain": [
              "7"
            ]
          },
          "execution_count": 63,
          "metadata": {},
          "output_type": "execute_result"
        }
      ],
      "source": [
        "score_dict={}\n",
        "tester_func(reg_list)"
      ]
    },
    {
      "cell_type": "code",
      "execution_count": null,
      "id": "169a9ee8",
      "metadata": {
        "execution": {
          "iopub.execute_input": "2023-01-22T12:43:57.730695Z",
          "iopub.status.busy": "2023-01-22T12:43:57.729703Z",
          "iopub.status.idle": "2023-01-22T12:43:57.749983Z",
          "shell.execute_reply": "2023-01-22T12:43:57.748276Z"
        },
        "papermill": {
          "duration": 0.060944,
          "end_time": "2023-01-22T12:43:57.752262",
          "exception": false,
          "start_time": "2023-01-22T12:43:57.691318",
          "status": "completed"
        },
        "tags": [],
        "id": "169a9ee8",
        "outputId": "17bcd16b-2716-4228-8c89-af6405961993"
      },
      "outputs": [
        {
          "data": {
            "text/html": [
              "<div>\n",
              "<style scoped>\n",
              "    .dataframe tbody tr th:only-of-type {\n",
              "        vertical-align: middle;\n",
              "    }\n",
              "\n",
              "    .dataframe tbody tr th {\n",
              "        vertical-align: top;\n",
              "    }\n",
              "\n",
              "    .dataframe thead th {\n",
              "        text-align: right;\n",
              "    }\n",
              "</style>\n",
              "<table border=\"1\" class=\"dataframe\">\n",
              "  <thead>\n",
              "    <tr style=\"text-align: right;\">\n",
              "      <th></th>\n",
              "      <th>R2 Score</th>\n",
              "      <th>Root Mean Squared Error</th>\n",
              "      <th>Mean Absolute Error Score</th>\n",
              "      <th>Mean Squared Error Score</th>\n",
              "      <th>model_index</th>\n",
              "    </tr>\n",
              "  </thead>\n",
              "  <tbody>\n",
              "    <tr>\n",
              "      <th>XGBRegressor</th>\n",
              "      <td>0.781109</td>\n",
              "      <td>335.527016</td>\n",
              "      <td>34.063330</td>\n",
              "      <td>112578.378167</td>\n",
              "      <td>4.0</td>\n",
              "    </tr>\n",
              "    <tr>\n",
              "      <th>GradientBoostingRegressor</th>\n",
              "      <td>0.776470</td>\n",
              "      <td>339.063430</td>\n",
              "      <td>45.060518</td>\n",
              "      <td>114964.009357</td>\n",
              "      <td>6.0</td>\n",
              "    </tr>\n",
              "    <tr>\n",
              "      <th>DecisionTreeRegressor</th>\n",
              "      <td>0.758827</td>\n",
              "      <td>352.190221</td>\n",
              "      <td>36.532604</td>\n",
              "      <td>124037.952099</td>\n",
              "      <td>0.0</td>\n",
              "    </tr>\n",
              "    <tr>\n",
              "      <th>RandomForestRegressor</th>\n",
              "      <td>0.735729</td>\n",
              "      <td>368.669782</td>\n",
              "      <td>33.282237</td>\n",
              "      <td>135917.408428</td>\n",
              "      <td>2.0</td>\n",
              "    </tr>\n",
              "    <tr>\n",
              "      <th>AdaBoostRegressor</th>\n",
              "      <td>0.726383</td>\n",
              "      <td>375.132448</td>\n",
              "      <td>129.940487</td>\n",
              "      <td>140724.353478</td>\n",
              "      <td>3.0</td>\n",
              "    </tr>\n",
              "    <tr>\n",
              "      <th>LGBMRegressor</th>\n",
              "      <td>0.650705</td>\n",
              "      <td>423.847310</td>\n",
              "      <td>42.942769</td>\n",
              "      <td>179646.542486</td>\n",
              "      <td>5.0</td>\n",
              "    </tr>\n",
              "    <tr>\n",
              "      <th>GridSearchCV</th>\n",
              "      <td>0.506858</td>\n",
              "      <td>503.615463</td>\n",
              "      <td>40.266937</td>\n",
              "      <td>253628.534861</td>\n",
              "      <td>7.0</td>\n",
              "    </tr>\n",
              "    <tr>\n",
              "      <th>LinearRegression</th>\n",
              "      <td>0.425326</td>\n",
              "      <td>543.655410</td>\n",
              "      <td>130.786050</td>\n",
              "      <td>295561.205171</td>\n",
              "      <td>1.0</td>\n",
              "    </tr>\n",
              "  </tbody>\n",
              "</table>\n",
              "</div>"
            ],
            "text/plain": [
              "                           R2 Score  Root Mean Squared Error  \\\n",
              "XGBRegressor               0.781109               335.527016   \n",
              "GradientBoostingRegressor  0.776470               339.063430   \n",
              "DecisionTreeRegressor      0.758827               352.190221   \n",
              "RandomForestRegressor      0.735729               368.669782   \n",
              "AdaBoostRegressor          0.726383               375.132448   \n",
              "LGBMRegressor              0.650705               423.847310   \n",
              "GridSearchCV               0.506858               503.615463   \n",
              "LinearRegression           0.425326               543.655410   \n",
              "\n",
              "                           Mean Absolute Error Score  \\\n",
              "XGBRegressor                               34.063330   \n",
              "GradientBoostingRegressor                  45.060518   \n",
              "DecisionTreeRegressor                      36.532604   \n",
              "RandomForestRegressor                      33.282237   \n",
              "AdaBoostRegressor                         129.940487   \n",
              "LGBMRegressor                              42.942769   \n",
              "GridSearchCV                               40.266937   \n",
              "LinearRegression                          130.786050   \n",
              "\n",
              "                           Mean Squared Error Score  model_index  \n",
              "XGBRegressor                          112578.378167          4.0  \n",
              "GradientBoostingRegressor             114964.009357          6.0  \n",
              "DecisionTreeRegressor                 124037.952099          0.0  \n",
              "RandomForestRegressor                 135917.408428          2.0  \n",
              "AdaBoostRegressor                     140724.353478          3.0  \n",
              "LGBMRegressor                         179646.542486          5.0  \n",
              "GridSearchCV                          253628.534861          7.0  \n",
              "LinearRegression                      295561.205171          1.0  "
            ]
          },
          "execution_count": 64,
          "metadata": {},
          "output_type": "execute_result"
        }
      ],
      "source": [
        "score_pd=pd.DataFrame(score_dict).transpose().sort_values('Root Mean Squared Error')\n",
        "score_pd"
      ]
    },
    {
      "cell_type": "code",
      "execution_count": null,
      "id": "065679f2",
      "metadata": {
        "execution": {
          "iopub.execute_input": "2023-01-22T12:43:57.826661Z",
          "iopub.status.busy": "2023-01-22T12:43:57.826279Z",
          "iopub.status.idle": "2023-01-22T12:43:58.589579Z",
          "shell.execute_reply": "2023-01-22T12:43:58.588663Z"
        },
        "papermill": {
          "duration": 0.803467,
          "end_time": "2023-01-22T12:43:58.592409",
          "exception": false,
          "start_time": "2023-01-22T12:43:57.788942",
          "status": "completed"
        },
        "tags": [],
        "id": "065679f2",
        "outputId": "1a7ff1b0-a705-4129-81ca-d21993554c51"
      },
      "outputs": [
        {
          "data": {
            "image/png": "[encoded data removed]",
            "text/plain": [
              "<Figure size 1296x864 with 3 Axes>"
            ]
          },
          "metadata": {
            "needs_background": "light"
          },
          "output_type": "display_data"
        }
      ],
      "source": [
        "fig,ax=plt.subplots(3,1,figsize=(18,12))\n",
        "sns.lineplot(data=score_pd.iloc[:,[1,2]],markers=True,ax=ax[1])\n",
        "sns.lineplot(data=score_pd.iloc[:,[0]],markers=True,ax=ax[0])\n",
        "sns.lineplot(data=score_pd.iloc[:,[3]],markers=True,ax=ax[2])\n",
        "plt.tight_layout()\n",
        "plt.show()"
      ]
    },
    {
      "cell_type": "markdown",
      "id": "a117883a",
      "metadata": {
        "papermill": {
          "duration": 0.025217,
          "end_time": "2023-01-22T12:43:58.643085",
          "exception": false,
          "start_time": "2023-01-22T12:43:58.617868",
          "status": "completed"
        },
        "tags": [],
        "id": "a117883a"
      },
      "source": [
        "# Best Model after Tuning"
      ]
    },
    {
      "cell_type": "code",
      "execution_count": null,
      "id": "142d3f96",
      "metadata": {
        "execution": {
          "iopub.execute_input": "2023-01-22T12:43:58.693900Z",
          "iopub.status.busy": "2023-01-22T12:43:58.693566Z",
          "iopub.status.idle": "2023-01-22T12:43:58.705127Z",
          "shell.execute_reply": "2023-01-22T12:43:58.704120Z"
        },
        "papermill": {
          "duration": 0.039537,
          "end_time": "2023-01-22T12:43:58.707389",
          "exception": false,
          "start_time": "2023-01-22T12:43:58.667852",
          "status": "completed"
        },
        "tags": [],
        "id": "142d3f96",
        "outputId": "4ad378c7-6590-4898-a2bd-2868d171c7ec"
      },
      "outputs": [
        {
          "data": {
            "text/html": [
              "<div>\n",
              "<style scoped>\n",
              "    .dataframe tbody tr th:only-of-type {\n",
              "        vertical-align: middle;\n",
              "    }\n",
              "\n",
              "    .dataframe tbody tr th {\n",
              "        vertical-align: top;\n",
              "    }\n",
              "\n",
              "    .dataframe thead th {\n",
              "        text-align: right;\n",
              "    }\n",
              "</style>\n",
              "<table border=\"1\" class=\"dataframe\">\n",
              "  <thead>\n",
              "    <tr style=\"text-align: right;\">\n",
              "      <th></th>\n",
              "      <th>R2 Score</th>\n",
              "      <th>Root Mean Squared Error</th>\n",
              "      <th>Mean Absolute Error Score</th>\n",
              "      <th>Mean Squared Error Score</th>\n",
              "      <th>model_index</th>\n",
              "    </tr>\n",
              "  </thead>\n",
              "  <tbody>\n",
              "    <tr>\n",
              "      <th>XGBRegressor</th>\n",
              "      <td>0.781109</td>\n",
              "      <td>335.527016</td>\n",
              "      <td>34.06333</td>\n",
              "      <td>112578.378167</td>\n",
              "      <td>4.0</td>\n",
              "    </tr>\n",
              "  </tbody>\n",
              "</table>\n",
              "</div>"
            ],
            "text/plain": [
              "              R2 Score  Root Mean Squared Error  Mean Absolute Error Score  \\\n",
              "XGBRegressor  0.781109               335.527016                   34.06333   \n",
              "\n",
              "              Mean Squared Error Score  model_index  \n",
              "XGBRegressor             112578.378167          4.0  "
            ]
          },
          "execution_count": 66,
          "metadata": {},
          "output_type": "execute_result"
        }
      ],
      "source": [
        "score_pd.iloc[[0],:]"
      ]
    },
    {
      "cell_type": "code",
      "execution_count": null,
      "id": "14cebeec",
      "metadata": {
        "execution": {
          "iopub.execute_input": "2023-01-22T12:43:58.760230Z",
          "iopub.status.busy": "2023-01-22T12:43:58.759374Z",
          "iopub.status.idle": "2023-01-22T12:43:58.765916Z",
          "shell.execute_reply": "2023-01-22T12:43:58.764948Z"
        },
        "papermill": {
          "duration": 0.034926,
          "end_time": "2023-01-22T12:43:58.767951",
          "exception": false,
          "start_time": "2023-01-22T12:43:58.733025",
          "status": "completed"
        },
        "tags": [],
        "id": "14cebeec",
        "outputId": "1be19aca-34eb-45e9-d613-99464b5c857d"
      },
      "outputs": [
        {
          "data": {
            "text/plain": [
              "4"
            ]
          },
          "execution_count": 67,
          "metadata": {},
          "output_type": "execute_result"
        }
      ],
      "source": [
        "win_index_ht=int(score_pd.iloc[0,-1])\n",
        "win_index_ht"
      ]
    },
    {
      "cell_type": "markdown",
      "id": "11ee7c9b",
      "metadata": {
        "papermill": {
          "duration": 0.024874,
          "end_time": "2023-01-22T12:43:58.817994",
          "exception": false,
          "start_time": "2023-01-22T12:43:58.793120",
          "status": "completed"
        },
        "tags": [],
        "id": "11ee7c9b"
      },
      "source": [
        "# Plot after Tuning"
      ]
    },
    {
      "cell_type": "code",
      "execution_count": null,
      "id": "f7ea5101",
      "metadata": {
        "execution": {
          "iopub.execute_input": "2023-01-22T12:43:58.870119Z",
          "iopub.status.busy": "2023-01-22T12:43:58.869824Z",
          "iopub.status.idle": "2023-01-22T12:43:59.996420Z",
          "shell.execute_reply": "2023-01-22T12:43:59.995551Z"
        },
        "papermill": {
          "duration": 1.15535,
          "end_time": "2023-01-22T12:43:59.998520",
          "exception": false,
          "start_time": "2023-01-22T12:43:58.843170",
          "status": "completed"
        },
        "tags": [],
        "id": "f7ea5101",
        "outputId": "6c9c7f68-9ae9-4f75-f7be-b4d722620716"
      },
      "outputs": [
        {
          "data": {
            "image/png": "[encoded data removed]",
            "text/plain": [
              "<Figure size 1728x720 with 2 Axes>"
            ]
          },
          "metadata": {
            "needs_background": "light"
          },
          "output_type": "display_data"
        }
      ],
      "source": [
        "pred=reg_list[win_index_ht].predict(X_test)\n",
        "diff=pred-y_test.values.ravel()\n",
        "\n",
        "fig,ax=plt.subplots(2,1,figsize=(24,10))\n",
        "sns.lineplot(y=y_test.values.ravel(),x=y_test.index,legend=False,ax=ax[0])\n",
        "sns.lineplot(y=pred,x=y_test.index,legend=False,ax=ax[0])\n",
        "sns.lineplot(y=diff,x=y_test.index,legend=\"full\",ax=ax[1])\n",
        "ax[0].set_title('Original Price vs Prediction ')\n",
        "ax[0].legend(['Original','Prediction'])\n",
        "ax[1].set_title('Diff in Values')\n",
        "plt.tight_layout()\n",
        "plt.show()"
      ]
    }
  ],
  "metadata": {
    "kernelspec": {
      "display_name": "Python 3",
      "language": "python",
      "name": "python3"
    },
    "language_info": {
      "codemirror_mode": {
        "name": "ipython",
        "version": 3
      },
      "file_extension": ".py",
      "mimetype": "text/x-python",
      "name": "python",
      "nbconvert_exporter": "python",
      "pygments_lexer": "ipython3",
      "version": "3.7.12"
    },
    "papermill": {
      "default_parameters": {},
      "duration": 290.978718,
      "end_time": "2023-01-22T12:44:02.753237",
      "environment_variables": {},
      "exception": null,
      "input_path": "__notebook__.ipynb",
      "output_path": "__notebook__.ipynb",
      "parameters": {},
      "start_time": "2023-01-22T12:39:11.774519",
      "version": "2.3.4"
    },
    "colab": {
      "provenance": [],
      "include_colab_link": true
    }
  },
  "nbformat": 4,
  "nbformat_minor": 5
}